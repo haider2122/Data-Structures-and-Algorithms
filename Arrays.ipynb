{
 "cells": [
  {
   "cell_type": "code",
   "execution_count": 1,
   "metadata": {
    "collapsed": true
   },
   "outputs": [],
   "source": [
    "#Arrays can be implemented using list,tuples and strings. hat heavily rely on\n",
    "#indexing."
   ]
  },
  {
   "cell_type": "code",
   "execution_count": 2,
   "metadata": {
    "collapsed": true
   },
   "outputs": [],
   "source": [
    "#Dynamic Arryas- list are dynamic arrays since require no intia; size declaration."
   ]
  },
  {
   "cell_type": "code",
   "execution_count": 6,
   "metadata": {},
   "outputs": [
    {
     "name": "stdout",
     "output_type": "stream",
     "text": [
      "len-0 and size-36\n",
      "len-1 and size-52\n",
      "len-2 and size-52\n",
      "len-3 and size-52\n",
      "len-4 and size-52\n",
      "len-5 and size-68\n",
      "len-6 and size-68\n",
      "len-7 and size-68\n",
      "len-8 and size-68\n",
      "len-9 and size-100\n",
      "len-10 and size-100\n",
      "len-11 and size-100\n",
      "len-12 and size-100\n",
      "len-13 and size-100\n",
      "len-14 and size-100\n",
      "len-15 and size-100\n",
      "len-16 and size-100\n",
      "len-17 and size-136\n",
      "len-18 and size-136\n",
      "len-19 and size-136\n",
      "len-20 and size-136\n",
      "len-21 and size-136\n",
      "len-22 and size-136\n",
      "len-23 and size-136\n",
      "len-24 and size-136\n",
      "len-25 and size-136\n",
      "len-26 and size-176\n",
      "len-27 and size-176\n",
      "len-28 and size-176\n",
      "len-29 and size-176\n",
      "len-30 and size-176\n",
      "len-31 and size-176\n",
      "len-32 and size-176\n",
      "len-33 and size-176\n",
      "len-34 and size-176\n",
      "len-35 and size-176\n",
      "len-36 and size-220\n",
      "len-37 and size-220\n",
      "len-38 and size-220\n",
      "len-39 and size-220\n",
      "len-40 and size-220\n",
      "len-41 and size-220\n",
      "len-42 and size-220\n",
      "len-43 and size-220\n",
      "len-44 and size-220\n",
      "len-45 and size-220\n",
      "len-46 and size-220\n",
      "len-47 and size-268\n",
      "len-48 and size-268\n",
      "len-49 and size-268\n"
     ]
    }
   ],
   "source": [
    "import sys\n",
    "n=50\n",
    "data=[]\n",
    "for i in range(n):\n",
    "    a=len(data)\n",
    "    b=sys.getsizeof(data)\n",
    "    print('len-{} and size-{}'.format(a,b))\n",
    "    \n",
    "    \n",
    "    data.append(n)\n",
    "#DYnamic arrays hence when the list is full, provide a much larger size to the array.Until the list\n",
    "#is full again."
   ]
  },
  {
   "cell_type": "code",
   "execution_count": 7,
   "metadata": {},
   "outputs": [],
   "source": [
    "#using Dynamic Arrays for referencing.\n",
    "#For list A, create another list B that is larger\n",
    "# To grown A, assing B[i]=A[i], then => A=B\n",
    "#Hence the bigger array B become A, with referencing.\n",
    "#new Array can be twice the capacity."
   ]
  },
  {
   "cell_type": "code",
   "execution_count": 1,
   "metadata": {
    "collapsed": true
   },
   "outputs": [],
   "source": [
    "#interview problems"
   ]
  },
  {
   "cell_type": "code",
   "execution_count": 22,
   "metadata": {},
   "outputs": [
    {
     "name": "stdout",
     "output_type": "stream",
     "text": [
      "oo\n",
      "Yes\n"
     ]
    }
   ],
   "source": [
    "  #Angram check\n",
    "def Ang(ss1,ss2):\n",
    "    count=0\n",
    "    s1=''\n",
    "    s2=''\n",
    "    for i in ss1:\n",
    "        if i!=' ':\n",
    "            s1=s1+i\n",
    "    for i in ss2:\n",
    "        if i!=' ':\n",
    "            s2=s2+i\n",
    "            \n",
    "    if len(s1)==len(s2):\n",
    "        print('oo')\n",
    "        for i in  range(0,len(s1)):\n",
    "            if s1[i]==s2[(len(s1)-1)-i]:\n",
    "                count=count+1\n",
    "        if count==len(s1):\n",
    "            print('Yes')\n",
    "        else:\n",
    "            print('NO')\n",
    "    else:\n",
    "        print('no')       \n",
    "Ang('haid e    r','rediah')"
   ]
  },
  {
   "cell_type": "code",
   "execution_count": 7,
   "metadata": {},
   "outputs": [
    {
     "data": {
      "text/plain": [
       "(1, 3)"
      ]
     },
     "execution_count": 7,
     "metadata": {},
     "output_type": "execute_result"
    }
   ],
   "source": [
    "def pair_sum(l,n):\n",
    "    z=[]\n",
    "    for i in l:\n",
    "        for j in l:\n",
    "            if i+j==n and (i,j) and (j,i) not in z:\n",
    "                z.append((i,j))\n",
    "    return z\n",
    "                \n",
    "    \n",
    "pair_sum([1,2,3,2],4)  "
   ]
  },
  {
   "cell_type": "code",
   "execution_count": 8,
   "metadata": {},
   "outputs": [
    {
     "data": {
      "text/plain": [
       "[0, 1, 2, 5, 6, 8]"
      ]
     },
     "execution_count": 8,
     "metadata": {},
     "output_type": "execute_result"
    }
   ],
   "source": [
    "#Basic sorting\n",
    "def sorrt(l):\n",
    "    x=[]\n",
    "    while len(l)!=0: \n",
    "        \n",
    "        min1=l[0]\n",
    "        for i in l:\n",
    "            if min1>i:\n",
    "                min1=i\n",
    "        x.append(min1)\n",
    "        l.remove(min1)\n",
    "    return x\n",
    "\n",
    "sorrt([2,5,1,6,0,8]) #relatively larger method"
   ]
  },
  {
   "cell_type": "code",
   "execution_count": 20,
   "metadata": {},
   "outputs": [],
   "source": [
    "#Finding the missing element\n",
    "def fun1(l1,l2):\n",
    "    return sum(l1)-sum(l2)\n",
    "def fun2(l1,l2):\n",
    "    x1=sorrt(l1)\n",
    "    x2=sorrt(l2)\n",
    "    for i in range(0,len(x1)):\n",
    "        if i<len(x2):\n",
    "            if x1[i]!=x2[i]:\n",
    "                return x1[i]"
   ]
  },
  {
   "cell_type": "code",
   "execution_count": 27,
   "metadata": {},
   "outputs": [
    {
     "data": {
      "text/plain": [
       "3"
      ]
     },
     "execution_count": 27,
     "metadata": {},
     "output_type": "execute_result"
    }
   ],
   "source": [
    "\n",
    "fun2([1,2,3,4,5,6,7],[7,2,1,4,6])"
   ]
  },
  {
   "cell_type": "code",
   "execution_count": 32,
   "metadata": {},
   "outputs": [
    {
     "data": {
      "text/plain": [
       "[5, 6]"
      ]
     },
     "execution_count": 32,
     "metadata": {},
     "output_type": "execute_result"
    }
   ],
   "source": [
    "def fun3(l1,l2):\n",
    "    x=[]\n",
    "    for i in l1:\n",
    "        if  i not in l2:\n",
    "            x.append(i)\n",
    "    return x\n",
    "fun3([1,2,3,4,5,6,7],[3,7,2,1,4])"
   ]
  },
  {
   "cell_type": "code",
   "execution_count": 36,
   "metadata": {},
   "outputs": [
    {
     "data": {
      "text/plain": [
       "18"
      ]
     },
     "execution_count": 36,
     "metadata": {},
     "output_type": "execute_result"
    }
   ],
   "source": [
    "sum([1,2,-1,3,4,10,10,-10,-1])"
   ]
  },
  {
   "cell_type": "code",
   "execution_count": 37,
   "metadata": {
    "collapsed": true
   },
   "outputs": [],
   "source": [
    "#Sentence reversal"
   ]
  },
  {
   "cell_type": "code",
   "execution_count": 60,
   "metadata": {},
   "outputs": [
    {
     "data": {
      "text/plain": [
       "'best the is This'"
      ]
     },
     "execution_count": 60,
     "metadata": {},
     "output_type": "execute_result"
    }
   ],
   "source": [
    "def strev(s):\n",
    "    s1=''\n",
    "    \n",
    "    l=s.split(' ')\n",
    "    l.reverse()\n",
    "    \n",
    "    \n",
    "    for i in l:\n",
    "        s1=s1+' '+i\n",
    "    return s1[1:]\n",
    "        \n",
    "strev('This is the best')"
   ]
  },
  {
   "cell_type": "code",
   "execution_count": 17,
   "metadata": {},
   "outputs": [
    {
     "data": {
      "text/plain": [
       "[3, 4, 1, 5]"
      ]
     },
     "execution_count": 17,
     "metadata": {},
     "output_type": "execute_result"
    }
   ],
   "source": [
    "l=[2,3,4,1,5]\n",
    "l.pop(0)\n",
    "l"
   ]
  },
  {
   "cell_type": "code",
   "execution_count": 19,
   "metadata": {},
   "outputs": [],
   "source": [
    "l.remove(l[0])"
   ]
  },
  {
   "cell_type": "code",
   "execution_count": 21,
   "metadata": {},
   "outputs": [],
   "source": [
    "q=['ab','ab','abc']\n"
   ]
  },
  {
   "cell_type": "code",
   "execution_count": 8,
   "metadata": {},
   "outputs": [],
   "source": [
    "for i,j in "
   ]
  },
  {
   "cell_type": "code",
   "execution_count": 9,
   "metadata": {},
   "outputs": [
    {
     "data": {
      "text/plain": [
       "[0, 2, 3, 1, 0]"
      ]
     },
     "execution_count": 9,
     "metadata": {},
     "output_type": "execute_result"
    }
   ],
   "source": [
    "temp"
   ]
  },
  {
   "cell_type": "code",
   "execution_count": 12,
   "metadata": {},
   "outputs": [],
   "source": [
    "l=[1,2,3]\n",
    "l.remove(1)"
   ]
  },
  {
   "cell_type": "code",
   "execution_count": 13,
   "metadata": {},
   "outputs": [
    {
     "data": {
      "text/plain": [
       "[2, 3]"
      ]
     },
     "execution_count": 13,
     "metadata": {},
     "output_type": "execute_result"
    }
   ],
   "source": [
    "l"
   ]
  },
  {
   "cell_type": "code",
   "execution_count": 11,
   "metadata": {},
   "outputs": [],
   "source": [
    "l='a vc'\n"
   ]
  },
  {
   "cell_type": "code",
   "execution_count": 12,
   "metadata": {},
   "outputs": [
    {
     "data": {
      "text/plain": [
       "'a vc'"
      ]
     },
     "execution_count": 12,
     "metadata": {},
     "output_type": "execute_result"
    }
   ],
   "source": [
    "l.strip(' ')"
   ]
  },
  {
   "cell_type": "code",
   "execution_count": null,
   "metadata": {
    "collapsed": true
   },
   "outputs": [],
   "source": [
    "def strev(s):\n",
    "    s1=''\n",
    "    for i in range(len(s)):\n",
    "        i\n",
    "        "
   ]
  },
  {
   "cell_type": "code",
   "execution_count": 1,
   "metadata": {
    "collapsed": true
   },
   "outputs": [],
   "source": [
    "def Ann(s1,s2):\n",
    "    l1=len(s1)\n",
    "    l2=len(s2)\n",
    "    z=1\n",
    "    if l1==l2:\n",
    "        for i in range(0,l1):\n",
    "            if s1[i]!=s2[(l1-1)-i]:\n",
    "                return False\n",
    "                z=0\n",
    "                break\n",
    "        if z==1:\n",
    "            return True\n",
    "    else:\n",
    "        return False\n"
   ]
  },
  {
   "cell_type": "code",
   "execution_count": 6,
   "metadata": {},
   "outputs": [
    {
     "data": {
      "text/plain": [
       "False"
      ]
     },
     "execution_count": 6,
     "metadata": {},
     "output_type": "execute_result"
    }
   ],
   "source": [
    "Ann('rediah','haider')"
   ]
  },
  {
   "cell_type": "code",
   "execution_count": 9,
   "metadata": {},
   "outputs": [],
   "source": [
    "a=[1,2,3,4]"
   ]
  },
  {
   "cell_type": "code",
   "execution_count": 17,
   "metadata": {},
   "outputs": [],
   "source": [
    "a= list([len(a)-1])+a[:len(a)-1]"
   ]
  },
  {
   "cell_type": "code",
   "execution_count": 18,
   "metadata": {},
   "outputs": [
    {
     "data": {
      "text/plain": [
       "[3, 2, 3, 4]"
      ]
     },
     "execution_count": 18,
     "metadata": {},
     "output_type": "execute_result"
    }
   ],
   "source": [
    "a"
   ]
  },
  {
   "cell_type": "code",
   "execution_count": 27,
   "metadata": {
    "collapsed": true
   },
   "outputs": [],
   "source": [
    "def rotLeft(a, d):\n",
    "    x=[]\n",
    "    while d>0:\n",
    "        a= a[1:len(a)]+[a[0]]\n",
    "        \n",
    "        print(d)\n",
    "        print(a)\n",
    "        d=d-1\n",
    "    return a"
   ]
  },
  {
   "cell_type": "code",
   "execution_count": 34,
   "metadata": {},
   "outputs": [
    {
     "name": "stdout",
     "output_type": "stream",
     "text": [
      "4\n",
      "[2, 3, 4, 5, 1]\n",
      "3\n",
      "[3, 4, 5, 1, 2]\n",
      "2\n",
      "[4, 5, 1, 2, 3]\n",
      "1\n",
      "[5, 1, 2, 3, 4]\n"
     ]
    },
    {
     "data": {
      "text/plain": [
       "[5, 1, 2, 3, 4]"
      ]
     },
     "execution_count": 34,
     "metadata": {},
     "output_type": "execute_result"
    }
   ],
   "source": [
    "rotLeft([1,2,3,4,5],4)"
   ]
  },
  {
   "cell_type": "code",
   "execution_count": 37,
   "metadata": {},
   "outputs": [],
   "source": [
    "a=[1,2,3,4,5]\n",
    "x=a.pop()\n",
    "a.insert(0,x)"
   ]
  },
  {
   "cell_type": "code",
   "execution_count": 38,
   "metadata": {},
   "outputs": [
    {
     "data": {
      "text/plain": [
       "[5, 1, 2, 3, 4]"
      ]
     },
     "execution_count": 38,
     "metadata": {},
     "output_type": "execute_result"
    }
   ],
   "source": [
    "a"
   ]
  },
  {
   "cell_type": "code",
   "execution_count": 2,
   "metadata": {},
   "outputs": [],
   "source": [
    "d={}\n",
    "d[1]=2"
   ]
  },
  {
   "cell_type": "code",
   "execution_count": 4,
   "metadata": {},
   "outputs": [
    {
     "data": {
      "text/plain": [
       "2"
      ]
     },
     "execution_count": 4,
     "metadata": {},
     "output_type": "execute_result"
    }
   ],
   "source": [
    "d[1]"
   ]
  },
  {
   "cell_type": "code",
   "execution_count": 6,
   "metadata": {},
   "outputs": [],
   "source": [
    "from collections import defaultdict"
   ]
  },
  {
   "cell_type": "code",
   "execution_count": 7,
   "metadata": {
    "collapsed": true
   },
   "outputs": [],
   "source": [
    "dq=defaultdict(lambda:0)"
   ]
  },
  {
   "cell_type": "code",
   "execution_count": null,
   "metadata": {},
   "outputs": [],
   "source": [
    "for i in queries:\n",
    "    if i in strings:\n",
    "        d[i]+=1\n",
    "        strings.pop(strings.index(i))"
   ]
  },
  {
   "cell_type": "code",
   "execution_count": 3,
   "metadata": {},
   "outputs": [],
   "source": [
    "arr=[4,3,1,2]\n",
    "c=0\n",
    "for i,j in enumerate(arr):\n",
    "    if arr[i]!=i+1:\n",
    "        t=arr[i]\n",
    "        x=arr.index(i+1)\n",
    "        arr[i]=i+1\n",
    "        arr[x]=t\n",
    "        c=c+1"
   ]
  },
  {
   "cell_type": "code",
   "execution_count": 5,
   "metadata": {},
   "outputs": [
    {
     "data": {
      "text/plain": [
       "[1, 2, 3, 4]"
      ]
     },
     "execution_count": 5,
     "metadata": {},
     "output_type": "execute_result"
    }
   ],
   "source": [
    "arr\n"
   ]
  },
  {
   "cell_type": "code",
   "execution_count": 81,
   "metadata": {},
   "outputs": [],
   "source": [
    "c1=0\n",
    "arr=[4,3,2,1]\n",
    "x=len(arr)\n",
    "i=0\n",
    "while i<x-1:\n",
    "        t=arr[i]\n",
    "        arr[i]=arr[x-1]\n",
    "        arr[x-1]=t\n",
    "        i+=1\n",
    "        x-=1\n",
    "        c1+=1\n"
   ]
  },
  {
   "cell_type": "code",
   "execution_count": 82,
   "metadata": {},
   "outputs": [
    {
     "data": {
      "text/plain": [
       "8"
      ]
     },
     "execution_count": 82,
     "metadata": {},
     "output_type": "execute_result"
    }
   ],
   "source": [
    "c"
   ]
  },
  {
   "cell_type": "code",
   "execution_count": 90,
   "metadata": {},
   "outputs": [],
   "source": [
    "arr=[4,3,1,2]"
   ]
  },
  {
   "cell_type": "code",
   "execution_count": 91,
   "metadata": {},
   "outputs": [],
   "source": [
    "\n",
    "d={j:i for i,j in enumerate(arr)}\n"
   ]
  },
  {
   "cell_type": "code",
   "execution_count": 92,
   "metadata": {},
   "outputs": [],
   "source": [
    "c=0\n",
    "for i,j in enumerate(arr):\n",
    "    if arr[i]!=d[j]:\n",
    "        t=arr[i]\n",
    "        arr[i]=d[j]\n",
    "        arr[d[i+1]]=j\n",
    "        d[i+1]=j\n",
    "        x=d[j]\n",
    "        y=d[i+1]\n",
    "        d[j]=y\n",
    "        d[i+1]=x\n",
    "        c=c+1"
   ]
  },
  {
   "cell_type": "code",
   "execution_count": 93,
   "metadata": {},
   "outputs": [
    {
     "data": {
      "text/plain": [
       "2"
      ]
     },
     "execution_count": 93,
     "metadata": {},
     "output_type": "execute_result"
    }
   ],
   "source": [
    "c"
   ]
  },
  {
   "cell_type": "code",
   "execution_count": 150,
   "metadata": {},
   "outputs": [],
   "source": [
    "arr=[4,3,1,2,5,6]"
   ]
  },
  {
   "cell_type": "code",
   "execution_count": 151,
   "metadata": {},
   "outputs": [],
   "source": [
    "for i,j in enumerate(arr):\n",
    "    if arr[i]!=i+1:\n",
    "        t=arr[i]\n",
    "        x=arr.index(i+1)\n",
    "        arr[i]=i+1\n",
    "        \n",
    "        arr[x]=t\n",
    "    "
   ]
  },
  {
   "cell_type": "code",
   "execution_count": 156,
   "metadata": {},
   "outputs": [],
   "source": [
    "arr=[1, 2, 3, 4, 5, 6]\n"
   ]
  },
  {
   "cell_type": "code",
   "execution_count": 153,
   "metadata": {},
   "outputs": [
    {
     "data": {
      "text/plain": [
       "3"
      ]
     },
     "execution_count": 153,
     "metadata": {},
     "output_type": "execute_result"
    }
   ],
   "source": [
    "73%5\n",
    "        "
   ]
  },
  {
   "cell_type": "code",
   "execution_count": null,
   "metadata": {},
   "outputs": [],
   "source": []
  },
  {
   "cell_type": "code",
   "execution_count": 157,
   "metadata": {},
   "outputs": [
    {
     "data": {
      "text/plain": [
       "4"
      ]
     },
     "execution_count": 157,
     "metadata": {},
     "output_type": "execute_result"
    }
   ],
   "source": [
    "arr.pop(2)\n",
    "arr.pop(2)"
   ]
  },
  {
   "cell_type": "code",
   "execution_count": 158,
   "metadata": {},
   "outputs": [
    {
     "data": {
      "text/plain": [
       "[1, 2, 5, 6]"
      ]
     },
     "execution_count": 158,
     "metadata": {},
     "output_type": "execute_result"
    }
   ],
   "source": [
    "arr"
   ]
  },
  {
   "cell_type": "code",
   "execution_count": 139,
   "metadata": {},
   "outputs": [
    {
     "data": {
      "text/plain": [
       "[0, 0, 0, 0, 0, 0, 0, 0, 0, 0]"
      ]
     },
     "execution_count": 139,
     "metadata": {},
     "output_type": "execute_result"
    }
   ],
   "source": []
  },
  {
   "cell_type": "code",
   "execution_count": null,
   "metadata": {
    "collapsed": true
   },
   "outputs": [],
   "source": []
  }
 ],
 "metadata": {
  "anaconda-cloud": {},
  "kernelspec": {
   "display_name": "Python 3 (ipykernel)",
   "language": "python",
   "name": "python3"
  },
  "language_info": {
   "codemirror_mode": {
    "name": "ipython",
    "version": 3
   },
   "file_extension": ".py",
   "mimetype": "text/x-python",
   "name": "python",
   "nbconvert_exporter": "python",
   "pygments_lexer": "ipython3",
   "version": "3.9.12"
  }
 },
 "nbformat": 4,
 "nbformat_minor": 1
}
