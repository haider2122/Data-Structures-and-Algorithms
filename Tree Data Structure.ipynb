{
 "cells": [
  {
   "cell_type": "code",
   "execution_count": 1,
   "metadata": {
    "collapsed": true
   },
   "outputs": [],
   "source": [
    "#Tree implementation"
   ]
  },
  {
   "cell_type": "code",
   "execution_count": null,
   "metadata": {
    "collapsed": true
   },
   "outputs": [],
   "source": []
  },
  {
   "cell_type": "code",
   "execution_count": 2,
   "metadata": {
    "collapsed": false
   },
   "outputs": [],
   "source": [
    "class Bst():\n",
    "    def __init__(self,value):\n",
    "        self.value=value\n",
    "        self.left=None\n",
    "        self.right=None\n",
    "        "
   ]
  },
  {
   "cell_type": "code",
   "execution_count": 3,
   "metadata": {
    "collapsed": false
   },
   "outputs": [],
   "source": [
    "root=Bst('a')\n",
    "root.left=Bst('b')\n",
    "root.right=Bst('c')"
   ]
  },
  {
   "cell_type": "code",
   "execution_count": 4,
   "metadata": {
    "collapsed": false
   },
   "outputs": [],
   "source": [
    "root.left.left=Bst('d')\n",
    "root.left.right=Bst('e')"
   ]
  },
  {
   "cell_type": "code",
   "execution_count": 5,
   "metadata": {
    "collapsed": false
   },
   "outputs": [
    {
     "data": {
      "text/plain": [
       "'c'"
      ]
     },
     "execution_count": 5,
     "metadata": {},
     "output_type": "execute_result"
    }
   ],
   "source": [
    "root.right.value"
   ]
  },
  {
   "cell_type": "code",
   "execution_count": null,
   "metadata": {
    "collapsed": true
   },
   "outputs": [],
   "source": []
  },
  {
   "cell_type": "code",
   "execution_count": 6,
   "metadata": {
    "collapsed": false
   },
   "outputs": [],
   "source": [
    "class Bstimp():\n",
    "    def __init__(self,value):\n",
    "        self.value=value\n",
    "        self.left=None\n",
    "        self.right=None\n",
    "    def inleft(self,l):\n",
    "        self.left=Bstimp(l)\n",
    "    def inrigth(self,r):\n",
    "        self.right=Bstimp(r)\n",
    "    def returnleft(self):\n",
    "        return self.left.value\n",
    "    def returnright(self):\n",
    "        return self.right.value"
   ]
  },
  {
   "cell_type": "code",
   "execution_count": 7,
   "metadata": {
    "collapsed": false
   },
   "outputs": [],
   "source": [
    "root=Bstimp('a')\n",
    "root.inleft('b')\n",
    "root.inrigth('c')\n",
    "root.left.inleft('d')\n",
    "root.left.inrigth('e')\n",
    "root.right.inleft('f')\n",
    "root.right.inrigth('g')"
   ]
  },
  {
   "cell_type": "code",
   "execution_count": 8,
   "metadata": {
    "collapsed": false
   },
   "outputs": [],
   "source": [
    "def postorder(tree):\n",
    "    if tree!=None:\n",
    "        print(tree.value)\n",
    "        postorder(tree.left)\n",
    "        postorder(tree.right)\n",
    "       "
   ]
  },
  {
   "cell_type": "code",
   "execution_count": 9,
   "metadata": {
    "collapsed": false
   },
   "outputs": [
    {
     "name": "stdout",
     "output_type": "stream",
     "text": [
      "a\n",
      "b\n",
      "d\n",
      "e\n",
      "c\n",
      "f\n",
      "g\n"
     ]
    }
   ],
   "source": [
    "postorder(root)"
   ]
  },
  {
   "cell_type": "code",
   "execution_count": 13,
   "metadata": {
    "collapsed": false
   },
   "outputs": [
    {
     "ename": "SyntaxError",
     "evalue": "unexpected EOF while parsing (<ipython-input-13-28f2b5a27e2c>, line 10)",
     "output_type": "error",
     "traceback": [
      "\u001b[0;36m  File \u001b[0;32m\"<ipython-input-13-28f2b5a27e2c>\"\u001b[0;36m, line \u001b[0;32m10\u001b[0m\n\u001b[0;31m    \u001b[0m\n\u001b[0m    ^\u001b[0m\n\u001b[0;31mSyntaxError\u001b[0m\u001b[0;31m:\u001b[0m unexpected EOF while parsing\n"
     ]
    }
   ],
   "source": [
    "class Bsst():\n",
    "    def __init__(self,value):\n",
    "        self.value=value\n",
    "        self.left=None\n",
    "        self.right=None\n",
    "        currentnode=self.value\n",
    "    def insert(self,value):\n",
    "        if currentnode==None:\n",
    "            currentnode=Bsst()\n",
    "            \n",
    "    "
   ]
  },
  {
   "cell_type": "code",
   "execution_count": 4,
   "metadata": {
    "collapsed": true
   },
   "outputs": [],
   "source": [
    "class Vertex:\n",
    "    def __init__(self,key):\n",
    "        self.id = key\n",
    "        self.connectedTo = {}\n",
    "\n",
    "    def addNeighbor(self,nbr,weight=0):\n",
    "        self.connectedTo[nbr] = weight\n",
    "\n",
    "    def __str__(self):\n",
    "        return str(self.id) + ' connectedTo: ' + str([x.id for x in self.connectedTo])\n",
    "\n",
    "    def getConnections(self):\n",
    "        return self.connectedTo.keys()\n",
    "\n",
    "    def getId(self):\n",
    "        return self.id\n",
    "\n",
    "    def getWeight(self,nbr):\n",
    "        return self.connectedTo[nbr]"
   ]
  },
  {
   "cell_type": "code",
   "execution_count": 57,
   "metadata": {
    "collapsed": true
   },
   "outputs": [],
   "source": [
    "class Graph(Vertex):\n",
    "    def __init__(self):\n",
    "        self.vertList = {}\n",
    "        self.numVertices = 0\n",
    "\n",
    "    def addVertex(self,key):\n",
    "        self.numVertices = self.numVertices + 1\n",
    "        newVertex = Vertex(key)\n",
    "        self.vertList[key] = newVertex\n",
    "        return newVertex\n",
    "\n",
    "    def getVertex(self,n):\n",
    "        if n in self.vertList:\n",
    "            return self.vertList[n]\n",
    "        else:\n",
    "            return None\n",
    "\n",
    "    def __contains__(self,n):\n",
    "        return n in self.vertList\n",
    "\n",
    "    def addEdge(self,f,t,cost=0):\n",
    "        if f not in self.vertList:\n",
    "            nv = self.addVertex(f)\n",
    "        if t not in self.vertList:\n",
    "            nv = self.addVertex(t)\n",
    "        self.vertList[f].addNeighbor(self.vertList[t], cost)\n",
    "\n",
    "    def getVertices(self):\n",
    "        return self.vertList.items()\n",
    "\n",
    "    def __iter__(self):\n",
    "        return iter(self.vertList.values())"
   ]
  },
  {
   "cell_type": "code",
   "execution_count": 58,
   "metadata": {
    "collapsed": true
   },
   "outputs": [],
   "source": [
    "a=Graph()"
   ]
  },
  {
   "cell_type": "code",
   "execution_count": 59,
   "metadata": {
    "collapsed": false
   },
   "outputs": [
    {
     "data": {
      "text/plain": [
       "<__main__.Vertex at 0x40bb310>"
      ]
     },
     "execution_count": 59,
     "metadata": {},
     "output_type": "execute_result"
    }
   ],
   "source": [
    "a.addVertex('a')"
   ]
  },
  {
   "cell_type": "code",
   "execution_count": 60,
   "metadata": {
    "collapsed": false
   },
   "outputs": [
    {
     "data": {
      "text/plain": [
       "True"
      ]
     },
     "execution_count": 60,
     "metadata": {},
     "output_type": "execute_result"
    }
   ],
   "source": [
    "a.__contains__('a')"
   ]
  },
  {
   "cell_type": "code",
   "execution_count": 61,
   "metadata": {
    "collapsed": false
   },
   "outputs": [],
   "source": [
    "a.addEdge('a','b',2)"
   ]
  },
  {
   "cell_type": "code",
   "execution_count": 62,
   "metadata": {
    "collapsed": false
   },
   "outputs": [
    {
     "data": {
      "text/plain": [
       "True"
      ]
     },
     "execution_count": 62,
     "metadata": {},
     "output_type": "execute_result"
    }
   ],
   "source": [
    "a.__contains__('b')"
   ]
  },
  {
   "cell_type": "code",
   "execution_count": 63,
   "metadata": {
    "collapsed": false
   },
   "outputs": [
    {
     "data": {
      "text/plain": [
       "dict_items([('b', <__main__.Vertex object at 0x040BB210>), ('a', <__main__.Vertex object at 0x040BB310>)])"
      ]
     },
     "execution_count": 63,
     "metadata": {},
     "output_type": "execute_result"
    }
   ],
   "source": [
    "a.getVertices()"
   ]
  },
  {
   "cell_type": "code",
   "execution_count": 64,
   "metadata": {
    "collapsed": false
   },
   "outputs": [
    {
     "data": {
      "text/plain": [
       "<__main__.Vertex at 0x40bb3f0>"
      ]
     },
     "execution_count": 64,
     "metadata": {},
     "output_type": "execute_result"
    }
   ],
   "source": [
    "a.addVertex('c')"
   ]
  },
  {
   "cell_type": "code",
   "execution_count": 65,
   "metadata": {
    "collapsed": false
   },
   "outputs": [
    {
     "data": {
      "text/plain": [
       "True"
      ]
     },
     "execution_count": 65,
     "metadata": {},
     "output_type": "execute_result"
    }
   ],
   "source": [
    "a.__contains__('c')"
   ]
  },
  {
   "cell_type": "code",
   "execution_count": 66,
   "metadata": {
    "collapsed": true
   },
   "outputs": [],
   "source": [
    "a.addEdge('b','c',2)"
   ]
  },
  {
   "cell_type": "code",
   "execution_count": 67,
   "metadata": {
    "collapsed": false
   },
   "outputs": [
    {
     "data": {
      "text/plain": [
       "dict_items([('b', <__main__.Vertex object at 0x040BB210>), ('a', <__main__.Vertex object at 0x040BB310>), ('c', <__main__.Vertex object at 0x040BB3F0>)])"
      ]
     },
     "execution_count": 67,
     "metadata": {},
     "output_type": "execute_result"
    }
   ],
   "source": [
    "a.getVertices()"
   ]
  },
  {
   "cell_type": "code",
   "execution_count": 68,
   "metadata": {
    "collapsed": false
   },
   "outputs": [],
   "source": [
    "a.getVertex('z')"
   ]
  },
  {
   "cell_type": "markdown",
   "metadata": {
    "collapsed": false
   },
   "source": [
    "xxxxxxxxxx------------------xxxxxxxxxxxxxxxxxxx-------------xxxxxxxxxxxxxxxxxxx-----------xxxxxxxxxxx"
   ]
  },
  {
   "cell_type": "code",
   "execution_count": 20,
   "metadata": {
    "collapsed": false
   },
   "outputs": [],
   "source": [
    "class Node():\n",
    "    def __init__(self,value):\n",
    "        self.value=value\n",
    "        self.left=None\n",
    "        self.right=None\n",
    "class BST():\n",
    "    def __init__(self,root):\n",
    "        self.root=Node(root)\n",
    "        \n",
    "    def preorder(self,start,traversal=[]):\n",
    "\n",
    "        if start:\n",
    "            traversal.append(start.value)\n",
    "            traversal=self.preorder(start.left,traversal)\n",
    "            traversal=self.preorder(start.right,traversal)\n",
    "        return traversal\n",
    "    \n",
    "    def levelorder(self,start):\n",
    "        s1=[start]\n",
    "        s2=[]\n",
    "        while s1!=[] and start!=None:\n",
    "            if start.left:\n",
    "                s1.append(start.left)\n",
    "            if start.right:\n",
    "                s1.append(start.right)\n",
    "            s2.append(s1.pop(0).value)\n",
    "            if s1!=[]:\n",
    "                start=s1[0]\n",
    "        return s2\n",
    "    \n",
    "    \n",
    "    def reverse_levelorder(self,start):\n",
    "        s1=[start]\n",
    "        s2=[]\n",
    "        while s1!=[] and start!=None:\n",
    "            if start.right:\n",
    "                s1.append(start.right)\n",
    "            if start.left:\n",
    "                s1.append(start.left)\n",
    "            s2.insert(0,s1.pop(0).value)\n",
    "            if s1!=[]:\n",
    "                start=s1[0]\n",
    "            \n",
    "        return s2\n",
    "            \n",
    "    def insert(self,val):\n",
    "        if self.root==None:\n",
    "            self.root=Node(val)\n",
    "        \n",
    "        else:\n",
    "            \n",
    "            while True:\n",
    "                if val<self.root.value:\n",
    "                    if self.root.left:\n",
    "\n",
    "                        self.root=self.root.left\n",
    "                    \n",
    "                    else:\n",
    "                        self.root.left=Node(val)\n",
    "                        break\n",
    "                        \n",
    "                else:\n",
    "                    \n",
    "                    if self.root.right:\n",
    "                        \n",
    "                        self.root=self.root.right\n",
    "\n",
    "                    \n",
    "                    else:\n",
    "                        self.root.right=Node(val)\n",
    "                        break\n",
    "                        \n",
    "                    \n",
    "                    \n",
    "        \n",
    "        \n",
    "        \n",
    "        \n",
    "        \n",
    "            \n",
    "        \n",
    "            \n",
    "            \n",
    "        \n",
    "        \n",
    "        "
   ]
  },
  {
   "cell_type": "code",
   "execution_count": 21,
   "metadata": {
    "collapsed": false
   },
   "outputs": [],
   "source": [
    "tree = BST(5)\n",
    "tree.root.left=Node(4)\n",
    "\n",
    "tree.root.right=Node(6)\n",
    "\n"
   ]
  },
  {
   "cell_type": "code",
   "execution_count": 24,
   "metadata": {
    "collapsed": false
   },
   "outputs": [
    {
     "data": {
      "text/plain": [
       "[5, 4, 6, 6, 8]"
      ]
     },
     "execution_count": 24,
     "metadata": {},
     "output_type": "execute_result"
    }
   ],
   "source": [
    "tree.preorder(tree.root)"
   ]
  },
  {
   "cell_type": "code",
   "execution_count": 16,
   "metadata": {
    "collapsed": false
   },
   "outputs": [
    {
     "data": {
      "text/plain": [
       "[5, 4, 6]"
      ]
     },
     "execution_count": 16,
     "metadata": {},
     "output_type": "execute_result"
    }
   ],
   "source": [
    "tree.levelorder(tree.root)"
   ]
  },
  {
   "cell_type": "code",
   "execution_count": 23,
   "metadata": {
    "collapsed": false
   },
   "outputs": [],
   "source": [
    "\n",
    "tree.insert(8)\n"
   ]
  },
  {
   "cell_type": "code",
   "execution_count": 77,
   "metadata": {
    "collapsed": false
   },
   "outputs": [],
   "source": [
    "def heightofTree(root):\n",
    "    cur=root.right\n",
    "    root=root.left\n",
    "    \n",
    "    c1=0\n",
    "    c2=0\n",
    "    s1=[root]\n",
    "    s2=[]\n",
    "    p1=[cur]\n",
    "    p2=[]\n",
    "    while s1!=[] :\n",
    "        if root==None:\n",
    "            return \n",
    "        \n",
    "\n",
    "        if root.left:\n",
    "            s1.append(root.left)\n",
    "        if root.right:\n",
    "            s1.append(root.right)\n",
    "        if root.left!=None and root.right!=None:\n",
    "            c1+=1\n",
    "        s2.append(s1.pop(0))\n",
    "        if s1!=[]:\n",
    "            root=s1[0]\n",
    "    while p1!=[] :\n",
    "        if cur==None:\n",
    "            return 0\n",
    "        \n",
    "\n",
    "\n",
    "        if cur.left:\n",
    "            p1.append(cur.left)\n",
    "        if cur.right:\n",
    "            p1.append(cur.right)\n",
    "        if cur.left!=None and cur.right!=None:\n",
    "            c2+=1\n",
    "        p2.append(p1.pop(0))\n",
    "        if p1!=[]:\n",
    "            cur=p1[0]\n",
    "\n",
    "    if len(p1)>=len(s1):\n",
    "        return len(p2)-c2\n",
    "    else:\n",
    "        return len(s2)-c1 "
   ]
  },
  {
   "cell_type": "code",
   "execution_count": 78,
   "metadata": {
    "collapsed": false
   },
   "outputs": [],
   "source": [
    "def height(root):\n",
    "    if root==None:\n",
    "        return -1\n",
    "    l=height(root.left)\n",
    "    r=height(root.right)\n",
    "    return 1+max(l,r)"
   ]
  },
  {
   "cell_type": "code",
   "execution_count": 88,
   "metadata": {
    "collapsed": false
   },
   "outputs": [
    {
     "data": {
      "text/plain": [
       "6"
      ]
     },
     "execution_count": 88,
     "metadata": {},
     "output_type": "execute_result"
    }
   ],
   "source": [
    "tree.root.value"
   ]
  },
  {
   "cell_type": "code",
   "execution_count": 92,
   "metadata": {
    "collapsed": false
   },
   "outputs": [],
   "source": [
    "l=[]\n",
    "def x(s):\n",
    "    for i in range(s):\n",
    "        l.append(i)\n",
    "    return l"
   ]
  },
  {
   "cell_type": "code",
   "execution_count": 93,
   "metadata": {
    "collapsed": false
   },
   "outputs": [
    {
     "data": {
      "text/plain": [
       "[0, 1, 2, 3]"
      ]
     },
     "execution_count": 93,
     "metadata": {},
     "output_type": "execute_result"
    }
   ],
   "source": [
    "x(4)"
   ]
  },
  {
   "cell_type": "code",
   "execution_count": 94,
   "metadata": {
    "collapsed": false
   },
   "outputs": [
    {
     "name": "stdout",
     "output_type": "stream",
     "text": [
      "4 2 5 1 3 \n"
     ]
    }
   ],
   "source": [
    "class Node: \n",
    "      \n",
    "    # Constructor to create a new node \n",
    "    def __init__(self, data): \n",
    "        self.data = data  \n",
    "        self.left = None\n",
    "        self.right = None\n",
    "  \n",
    "# Iterative function for inorder tree traversal \n",
    "def inOrder(root): \n",
    "      \n",
    "    # Set current to root of binary tree \n",
    "    current = root  \n",
    "    stack = [] # initialize stack \n",
    "    done = 0 \n",
    "      \n",
    "    while True: \n",
    "          \n",
    "        # Reach the left most Node of the current Node \n",
    "        if current is not None: \n",
    "              \n",
    "            # Place pointer to a tree node on the stack  \n",
    "            # before traversing the node's left subtree \n",
    "            stack.append(current) \n",
    "          \n",
    "            current = current.left  \n",
    "  \n",
    "          \n",
    "        # BackTrack from the empty subtree and visit the Node \n",
    "        # at the top of the stack; however, if the stack is  \n",
    "        # empty you are done \n",
    "        elif(stack): \n",
    "            current = stack.pop() \n",
    "            print(current.data, end=\" \") # Python 3 printing \n",
    "          \n",
    "            # We have visited the node and its left  \n",
    "            # subtree. Now, it's right subtree's turn \n",
    "            current = current.right  \n",
    "  \n",
    "        else: \n",
    "            break\n",
    "       \n",
    "    print() \n",
    "  \n",
    "# Driver program to test above function \n",
    "  \n",
    "\"\"\" Constructed binary tree is \n",
    "            1 \n",
    "          /   \\ \n",
    "         2     3 \n",
    "       /  \\ \n",
    "      4    5   \"\"\"\n",
    "  \n",
    "root = Node(1) \n",
    "root.left = Node(2) \n",
    "root.right = Node(3) \n",
    "root.left.left = Node(4) \n",
    "root.left.right = Node(5) \n",
    "  \n",
    "inOrder(root) "
   ]
  },
  {
   "cell_type": "code",
   "execution_count": 110,
   "metadata": {
    "collapsed": true
   },
   "outputs": [],
   "source": [
    "class stack():\n",
    "    def __init__(self):\n",
    "        self.l=[]\n",
    "    def push(self,x):\n",
    "        self.l.append(x)\n",
    "    def print1(self):\n",
    "        return self.l"
   ]
  },
  {
   "cell_type": "code",
   "execution_count": 111,
   "metadata": {
    "collapsed": true
   },
   "outputs": [],
   "source": [
    "s=stack()"
   ]
  },
  {
   "cell_type": "code",
   "execution_count": 112,
   "metadata": {
    "collapsed": true
   },
   "outputs": [],
   "source": [
    "s.push(1)\n",
    "s.push(2)\n",
    "s.push(3)"
   ]
  },
  {
   "cell_type": "code",
   "execution_count": 113,
   "metadata": {
    "collapsed": false
   },
   "outputs": [
    {
     "data": {
      "text/plain": [
       "True"
      ]
     },
     "execution_count": 113,
     "metadata": {},
     "output_type": "execute_result"
    }
   ],
   "source": [
    "s.print1()==[1, 2, 3]"
   ]
  },
  {
   "cell_type": "code",
   "execution_count": 5,
   "metadata": {
    "collapsed": true
   },
   "outputs": [],
   "source": [
    "class Node():\n",
    "    def __init__(self,value):\n",
    "        self.value=value\n",
    "        self.left=None\n",
    "        self.right=None\n",
    "class BST():\n",
    "    def __init__(self,root):\n",
    "        self.root=Node(root)\n",
    "root = Node(1) \n",
    "root.left = Node(2) \n",
    "root.right = Node(3) \n",
    "root.left.left = Node(4) \n",
    "root.left.right = Node(5) \n",
    "  \n",
    "\n",
    "\n",
    "class Stack():\n",
    "    def __init__(self):\n",
    "        self.l=[]\n",
    "    def push(self,x):\n",
    "        self.l.append(x)\n",
    "s=Stack()\n"
   ]
  },
  {
   "cell_type": "code",
   "execution_count": 6,
   "metadata": {
    "collapsed": true
   },
   "outputs": [],
   "source": [
    "s.push(3)\n",
    "s.push(4)\n",
    "s.push(1)"
   ]
  },
  {
   "cell_type": "code",
   "execution_count": 7,
   "metadata": {
    "collapsed": false
   },
   "outputs": [
    {
     "data": {
      "text/plain": [
       "False"
      ]
     },
     "execution_count": 7,
     "metadata": {},
     "output_type": "execute_result"
    }
   ],
   "source": [
    "s.l==sorted(s.l)"
   ]
  },
  {
   "cell_type": "code",
   "execution_count": 8,
   "metadata": {
    "collapsed": true
   },
   "outputs": [],
   "source": [
    "def check_binary_search_tree_(root):\n",
    "    tree = []\n",
    "    \n",
    "    def in_order(root):\n",
    "        if root is None: return\n",
    "        in_order(root.left)\n",
    "        tree.append(root.data)\n",
    "        in_order(root.right)\n",
    "    \n",
    "    in_order(root)\n",
    "    return len(tree) == len(set(tree)) and tree == list(sorted(tree))"
   ]
  },
  {
   "cell_type": "code",
   "execution_count": 9,
   "metadata": {
    "collapsed": false
   },
   "outputs": [
    {
     "ename": "IndentationError",
     "evalue": "expected an indented block (<ipython-input-9-fde3822673ed>, line 5)",
     "output_type": "error",
     "traceback": [
      "\u001b[0;36m  File \u001b[0;32m\"<ipython-input-9-fde3822673ed>\"\u001b[0;36m, line \u001b[0;32m5\u001b[0m\n\u001b[0;31m    node = node.left\u001b[0m\n\u001b[0m       ^\u001b[0m\n\u001b[0;31mIndentationError\u001b[0m\u001b[0;31m:\u001b[0m expected an indented block\n"
     ]
    }
   ],
   "source": [
    "def lca(root, a, b):\n",
    "    node = root\n",
    "    while node:\n",
    "        if max(a, b) < node.data:\n",
    "        node = node.left\n",
    "        elif min(a, b) > node.data:\n",
    "        node = node.right\n",
    "        else:\n",
    "        break\n",
    "    return node"
   ]
  },
  {
   "cell_type": "code",
   "execution_count": 26,
   "metadata": {
    "collapsed": false,
    "scrolled": true
   },
   "outputs": [
    {
     "data": {
      "text/plain": [
       "15"
      ]
     },
     "execution_count": 26,
     "metadata": {},
     "output_type": "execute_result"
    }
   ],
   "source": [
    "9^6 + 9 and 6+ 9 or 6 "
   ]
  },
  {
   "cell_type": "code",
   "execution_count": 50,
   "metadata": {
    "collapsed": false
   },
   "outputs": [
    {
     "name": "stdout",
     "output_type": "stream",
     "text": [
      "30\n",
      "22\n",
      "26\n",
      "22\n",
      "30\n",
      "14\n",
      "14\n",
      "12\n",
      "22\n",
      "14\n",
      "14\n",
      "6\n",
      "26\n",
      "14\n",
      "14\n",
      "14\n",
      "22\n",
      "12\n",
      "6\n",
      "14\n"
     ]
    }
   ],
   "source": [
    "\n",
    "l=[9,6,3,5,2]\n",
    "maxo=l[0]^l[1]\n",
    "for i in range(0,len(l)):\n",
    "    for j in range(0,len(l)):\n",
    "        if l[i]!=l[j]:\n",
    "            x=(l[i] and l[j])+ (l[i] or l[j]) + (l[i]^l[j])\n",
    "            print(x)\n",
    "    \n",
    "    if x>=maxo:\n",
    "        maxo=x\n",
    "        "
   ]
  },
  {
   "cell_type": "code",
   "execution_count": 33,
   "metadata": {
    "collapsed": false
   },
   "outputs": [
    {
     "ename": "IndentationError",
     "evalue": "unexpected indent (<ipython-input-33-4b46995c62ab>, line 21)",
     "output_type": "error",
     "traceback": [
      "\u001b[0;36m  File \u001b[0;32m\"<ipython-input-33-4b46995c62ab>\"\u001b[0;36m, line \u001b[0;32m21\u001b[0m\n\u001b[0;31m    if data< curr.value:\u001b[0m\n\u001b[0m    ^\u001b[0m\n\u001b[0;31mIndentationError\u001b[0m\u001b[0;31m:\u001b[0m unexpected indent\n"
     ]
    }
   ],
   "source": []
  },
  {
   "cell_type": "code",
   "execution_count": 242,
   "metadata": {
    "collapsed": false
   },
   "outputs": [],
   "source": [
    "class Node:\n",
    "    def __init__(self,value):\n",
    "        self.value=value\n",
    "        self.left=None\n",
    "        self.right=None\n",
    "class BST():\n",
    "    def __init__(self):\n",
    "        self.root=None\n",
    "    def insert_iterative(self,data):\n",
    "        if self.root==None:\n",
    "            self.root=Node(data)\n",
    "            print('root= {}'.format(self.root.value))\n",
    "        else:\n",
    "            \n",
    "            curr=self.root\n",
    "            while curr!=None:\n",
    "                if data< curr.value:\n",
    "                    if curr.left!=None:\n",
    "                        curr=curr.left\n",
    "                    else:\n",
    "                        new_node=Node(data)\n",
    "                        curr.left=new_node\n",
    "                        break\n",
    "                              \n",
    "                else:\n",
    "                    if curr.right!=None:\n",
    "                        curr=curr.right\n",
    "                    else:\n",
    "                        new_node=Node(data)\n",
    "                        curr.right=new_node\n",
    "                        break\n",
    "    def insert_recursive(self,curr,data):\n",
    "            if curr==None:\n",
    "                return Node(data)\n",
    "            \n",
    "            elif data < curr.value:\n",
    "                if curr.left:\n",
    "                    curr=insert_recursive(curr.left,data)\n",
    "\n",
    "                else:\n",
    "                    curr.left=Node(data)\n",
    "                    return 0\n",
    "            else:\n",
    "                if curr.right:\n",
    "                    \n",
    "                    curr=insert_recursive(curr.right,data)\n",
    "                   \n",
    "                else:\n",
    "                    curr.right=Node(data)\n",
    "                    \n",
    "            return root\n",
    "           \n",
    "            \n",
    "        \n",
    "    \n",
    "    def inorder(self,start,traversal=[]):\n",
    "\n",
    "        if start:\n",
    "            \n",
    "            traversal=self.inorder(start.left,traversal)\n",
    "            traversal.append(start.value)\n",
    "            traversal=self.inorder(start.right,traversal)\n",
    "        return traversal\n",
    "        \n",
    "        \n",
    "                        \n",
    "    \n",
    "    \n",
    "    "
   ]
  },
  {
   "cell_type": "code",
   "execution_count": 246,
   "metadata": {
    "collapsed": false
   },
   "outputs": [
    {
     "data": {
      "text/plain": [
       "9"
      ]
     },
     "execution_count": 246,
     "metadata": {},
     "output_type": "execute_result"
    }
   ],
   "source": [
    "r=BST()\n",
    "l=[9,8,3,2]\n",
    "r.root=Node(l[0])\n",
    "l.pop(0)"
   ]
  },
  {
   "cell_type": "code",
   "execution_count": 247,
   "metadata": {
    "collapsed": false
   },
   "outputs": [
    {
     "ename": "NameError",
     "evalue": "name 'insert_recursive' is not defined",
     "output_type": "error",
     "traceback": [
      "\u001b[0;31m---------------------------------------------------------------------------\u001b[0m",
      "\u001b[0;31mNameError\u001b[0m                                 Traceback (most recent call last)",
      "\u001b[0;32m<ipython-input-247-8c5f6a9c8bc5>\u001b[0m in \u001b[0;36m<module>\u001b[0;34m()\u001b[0m\n\u001b[1;32m      1\u001b[0m \u001b[1;32mfor\u001b[0m \u001b[0mi\u001b[0m \u001b[1;32min\u001b[0m \u001b[0ml\u001b[0m\u001b[1;33m:\u001b[0m\u001b[1;33m\u001b[0m\u001b[0m\n\u001b[0;32m----> 2\u001b[0;31m     \u001b[0mr\u001b[0m\u001b[1;33m.\u001b[0m\u001b[0minsert_recursive\u001b[0m\u001b[1;33m(\u001b[0m\u001b[0mr\u001b[0m\u001b[1;33m.\u001b[0m\u001b[0mroot\u001b[0m\u001b[1;33m,\u001b[0m\u001b[0mi\u001b[0m\u001b[1;33m)\u001b[0m\u001b[1;33m\u001b[0m\u001b[0m\n\u001b[0m",
      "\u001b[0;32m<ipython-input-242-1afba7d0b645>\u001b[0m in \u001b[0;36minsert_recursive\u001b[0;34m(self, curr, data)\u001b[0m\n\u001b[1;32m     36\u001b[0m             \u001b[1;32melif\u001b[0m \u001b[0mdata\u001b[0m \u001b[1;33m<\u001b[0m \u001b[0mcurr\u001b[0m\u001b[1;33m.\u001b[0m\u001b[0mvalue\u001b[0m\u001b[1;33m:\u001b[0m\u001b[1;33m\u001b[0m\u001b[0m\n\u001b[1;32m     37\u001b[0m                 \u001b[1;32mif\u001b[0m \u001b[0mcurr\u001b[0m\u001b[1;33m.\u001b[0m\u001b[0mleft\u001b[0m\u001b[1;33m:\u001b[0m\u001b[1;33m\u001b[0m\u001b[0m\n\u001b[0;32m---> 38\u001b[0;31m                     \u001b[0mcurr\u001b[0m\u001b[1;33m=\u001b[0m\u001b[0minsert_recursive\u001b[0m\u001b[1;33m(\u001b[0m\u001b[0mcurr\u001b[0m\u001b[1;33m.\u001b[0m\u001b[0mleft\u001b[0m\u001b[1;33m,\u001b[0m\u001b[0mdata\u001b[0m\u001b[1;33m)\u001b[0m\u001b[1;33m\u001b[0m\u001b[0m\n\u001b[0m\u001b[1;32m     39\u001b[0m \u001b[1;33m\u001b[0m\u001b[0m\n\u001b[1;32m     40\u001b[0m                 \u001b[1;32melse\u001b[0m\u001b[1;33m:\u001b[0m\u001b[1;33m\u001b[0m\u001b[0m\n",
      "\u001b[0;31mNameError\u001b[0m: name 'insert_recursive' is not defined"
     ]
    }
   ],
   "source": [
    "for i in l:\n",
    "    r.insert_recursive(r.root,i)"
   ]
  },
  {
   "cell_type": "code",
   "execution_count": 248,
   "metadata": {
    "collapsed": false
   },
   "outputs": [
    {
     "data": {
      "text/plain": [
       "[8, 9, 8, 9]"
      ]
     },
     "execution_count": 248,
     "metadata": {},
     "output_type": "execute_result"
    }
   ],
   "source": [
    "r.inorder(r.root)"
   ]
  },
  {
   "cell_type": "code",
   "execution_count": null,
   "metadata": {
    "collapsed": false
   },
   "outputs": [],
   "source": []
  },
  {
   "cell_type": "code",
   "execution_count": 2,
   "metadata": {
    "collapsed": false
   },
   "outputs": [],
   "source": [
    "class Node:\n",
    "    def __init__(self,value):\n",
    "        self.value=value\n",
    "        self.left=None\n",
    "        self.right=None\n",
    "class BST1():\n",
    "    def __init__(self):\n",
    "        self.root=None\n",
    "    def insert_iterative(self,data):\n",
    "        if self.root==None:\n",
    "            self.root=Node(data)\n",
    "            print('root= {}'.format(self.root.value))\n",
    "        else:\n",
    "            \n",
    "            curr=self.root\n",
    "            while curr!=None:\n",
    "                if data< curr.value:\n",
    "                    if curr.left!=None:\n",
    "                        curr=curr.left\n",
    "                    else:\n",
    "                        new_node=Node(data)\n",
    "                        curr.left=new_node\n",
    "                        break\n",
    "                              \n",
    "                else:\n",
    "                    if curr.right!=None:\n",
    "                        curr=curr.right\n",
    "                    else:\n",
    "                        new_node=Node(data)\n",
    "                        curr.right=new_node\n",
    "                        break\n",
    "    def search_iterative(self,data):\n",
    "        curr=self.root\n",
    "        \n",
    "        while curr:\n",
    "            if curr.value==data:\n",
    "                return 'Present'\n",
    "            elif curr.value>data:\n",
    "                curr=curr.left\n",
    "            else:\n",
    "                curr=curr.right\n",
    "        return 'Not present'\n",
    "            \n",
    "        \n",
    "        \n",
    "                        \n",
    "    \n",
    "    \n"
   ]
  },
  {
   "cell_type": "code",
   "execution_count": 22,
   "metadata": {
    "collapsed": true
   },
   "outputs": [],
   "source": [
    "r1=BST1()\n",
    "l=[8,7,4,6,5,10,9,11]"
   ]
  },
  {
   "cell_type": "code",
   "execution_count": 23,
   "metadata": {
    "collapsed": false
   },
   "outputs": [
    {
     "name": "stdout",
     "output_type": "stream",
     "text": [
      "root= 8\n"
     ]
    }
   ],
   "source": [
    "for i in l:\n",
    "    r1.insert_iterative(i)"
   ]
  },
  {
   "cell_type": "code",
   "execution_count": 24,
   "metadata": {
    "collapsed": false
   },
   "outputs": [
    {
     "data": {
      "text/plain": [
       "'Present'"
      ]
     },
     "execution_count": 24,
     "metadata": {},
     "output_type": "execute_result"
    }
   ],
   "source": [
    "r1.search_iterative(9)"
   ]
  },
  {
   "cell_type": "code",
   "execution_count": 25,
   "metadata": {
    "collapsed": false
   },
   "outputs": [
    {
     "name": "stdout",
     "output_type": "stream",
     "text": [
      "8 7 4 6 5 10 9 11 "
     ]
    }
   ],
   "source": [
    "def preorder_iterataive(root):\n",
    "    stack=[root]\n",
    "    while stack!=[]:\n",
    "        curr=stack.pop()\n",
    "        print(curr.value,end=' ')\n",
    "        if curr.right:\n",
    "            stack.append(curr.right)\n",
    "        if curr.left:\n",
    "            stack.append(curr.left)\n",
    "            \n",
    "preorder_iterataive(r1.root)"
   ]
  },
  {
   "cell_type": "code",
   "execution_count": 7,
   "metadata": {
    "collapsed": false
   },
   "outputs": [],
   "source": [
    "def inorder_iterative(root):\n",
    "    pass"
   ]
  },
  {
   "cell_type": "code",
   "execution_count": 8,
   "metadata": {
    "collapsed": false
   },
   "outputs": [
    {
     "ename": "TypeError",
     "evalue": "unsupported operand type(s) for +: 'NoneType' and 'list'",
     "output_type": "error",
     "traceback": [
      "\u001b[0;31m---------------------------------------------------------------------------\u001b[0m",
      "\u001b[0;31mTypeError\u001b[0m                                 Traceback (most recent call last)",
      "\u001b[0;32m<ipython-input-8-81bb29003ba0>\u001b[0m in \u001b[0;36m<module>\u001b[0;34m()\u001b[0m\n\u001b[1;32m      5\u001b[0m \u001b[1;33m\u001b[0m\u001b[0m\n\u001b[1;32m      6\u001b[0m         \u001b[1;32mreturn\u001b[0m \u001b[0minorder_quick\u001b[0m\u001b[1;33m(\u001b[0m\u001b[0mroot\u001b[0m\u001b[1;33m[\u001b[0m\u001b[1;33m-\u001b[0m\u001b[1;36m1\u001b[0m\u001b[1;33m]\u001b[0m\u001b[1;33m.\u001b[0m\u001b[0mleft\u001b[0m\u001b[1;33m)\u001b[0m\u001b[1;33m+\u001b[0m \u001b[0mroot\u001b[0m \u001b[1;33m+\u001b[0m \u001b[0minorder_quick\u001b[0m\u001b[1;33m(\u001b[0m\u001b[0mroot\u001b[0m\u001b[1;33m[\u001b[0m\u001b[1;33m-\u001b[0m\u001b[1;36m1\u001b[0m\u001b[1;33m]\u001b[0m\u001b[1;33m.\u001b[0m\u001b[0mright\u001b[0m\u001b[1;33m)\u001b[0m\u001b[1;33m\u001b[0m\u001b[0m\n\u001b[0;32m----> 7\u001b[0;31m \u001b[0minorder_quick\u001b[0m\u001b[1;33m(\u001b[0m\u001b[0mr1\u001b[0m\u001b[1;33m.\u001b[0m\u001b[0mroot\u001b[0m\u001b[1;33m)\u001b[0m\u001b[1;33m\u001b[0m\u001b[0m\n\u001b[0m",
      "\u001b[0;32m<ipython-input-8-81bb29003ba0>\u001b[0m in \u001b[0;36minorder_quick\u001b[0;34m(root)\u001b[0m\n\u001b[1;32m      4\u001b[0m \u001b[1;33m\u001b[0m\u001b[0m\n\u001b[1;32m      5\u001b[0m \u001b[1;33m\u001b[0m\u001b[0m\n\u001b[0;32m----> 6\u001b[0;31m         \u001b[1;32mreturn\u001b[0m \u001b[0minorder_quick\u001b[0m\u001b[1;33m(\u001b[0m\u001b[0mroot\u001b[0m\u001b[1;33m[\u001b[0m\u001b[1;33m-\u001b[0m\u001b[1;36m1\u001b[0m\u001b[1;33m]\u001b[0m\u001b[1;33m.\u001b[0m\u001b[0mleft\u001b[0m\u001b[1;33m)\u001b[0m\u001b[1;33m+\u001b[0m \u001b[0mroot\u001b[0m \u001b[1;33m+\u001b[0m \u001b[0minorder_quick\u001b[0m\u001b[1;33m(\u001b[0m\u001b[0mroot\u001b[0m\u001b[1;33m[\u001b[0m\u001b[1;33m-\u001b[0m\u001b[1;36m1\u001b[0m\u001b[1;33m]\u001b[0m\u001b[1;33m.\u001b[0m\u001b[0mright\u001b[0m\u001b[1;33m)\u001b[0m\u001b[1;33m\u001b[0m\u001b[0m\n\u001b[0m\u001b[1;32m      7\u001b[0m \u001b[0minorder_quick\u001b[0m\u001b[1;33m(\u001b[0m\u001b[0mr1\u001b[0m\u001b[1;33m.\u001b[0m\u001b[0mroot\u001b[0m\u001b[1;33m)\u001b[0m\u001b[1;33m\u001b[0m\u001b[0m\n",
      "\u001b[0;32m<ipython-input-8-81bb29003ba0>\u001b[0m in \u001b[0;36minorder_quick\u001b[0;34m(root)\u001b[0m\n\u001b[1;32m      4\u001b[0m \u001b[1;33m\u001b[0m\u001b[0m\n\u001b[1;32m      5\u001b[0m \u001b[1;33m\u001b[0m\u001b[0m\n\u001b[0;32m----> 6\u001b[0;31m         \u001b[1;32mreturn\u001b[0m \u001b[0minorder_quick\u001b[0m\u001b[1;33m(\u001b[0m\u001b[0mroot\u001b[0m\u001b[1;33m[\u001b[0m\u001b[1;33m-\u001b[0m\u001b[1;36m1\u001b[0m\u001b[1;33m]\u001b[0m\u001b[1;33m.\u001b[0m\u001b[0mleft\u001b[0m\u001b[1;33m)\u001b[0m\u001b[1;33m+\u001b[0m \u001b[0mroot\u001b[0m \u001b[1;33m+\u001b[0m \u001b[0minorder_quick\u001b[0m\u001b[1;33m(\u001b[0m\u001b[0mroot\u001b[0m\u001b[1;33m[\u001b[0m\u001b[1;33m-\u001b[0m\u001b[1;36m1\u001b[0m\u001b[1;33m]\u001b[0m\u001b[1;33m.\u001b[0m\u001b[0mright\u001b[0m\u001b[1;33m)\u001b[0m\u001b[1;33m\u001b[0m\u001b[0m\n\u001b[0m\u001b[1;32m      7\u001b[0m \u001b[0minorder_quick\u001b[0m\u001b[1;33m(\u001b[0m\u001b[0mr1\u001b[0m\u001b[1;33m.\u001b[0m\u001b[0mroot\u001b[0m\u001b[1;33m)\u001b[0m\u001b[1;33m\u001b[0m\u001b[0m\n",
      "\u001b[0;32m<ipython-input-8-81bb29003ba0>\u001b[0m in \u001b[0;36minorder_quick\u001b[0;34m(root)\u001b[0m\n\u001b[1;32m      4\u001b[0m \u001b[1;33m\u001b[0m\u001b[0m\n\u001b[1;32m      5\u001b[0m \u001b[1;33m\u001b[0m\u001b[0m\n\u001b[0;32m----> 6\u001b[0;31m         \u001b[1;32mreturn\u001b[0m \u001b[0minorder_quick\u001b[0m\u001b[1;33m(\u001b[0m\u001b[0mroot\u001b[0m\u001b[1;33m[\u001b[0m\u001b[1;33m-\u001b[0m\u001b[1;36m1\u001b[0m\u001b[1;33m]\u001b[0m\u001b[1;33m.\u001b[0m\u001b[0mleft\u001b[0m\u001b[1;33m)\u001b[0m\u001b[1;33m+\u001b[0m \u001b[0mroot\u001b[0m \u001b[1;33m+\u001b[0m \u001b[0minorder_quick\u001b[0m\u001b[1;33m(\u001b[0m\u001b[0mroot\u001b[0m\u001b[1;33m[\u001b[0m\u001b[1;33m-\u001b[0m\u001b[1;36m1\u001b[0m\u001b[1;33m]\u001b[0m\u001b[1;33m.\u001b[0m\u001b[0mright\u001b[0m\u001b[1;33m)\u001b[0m\u001b[1;33m\u001b[0m\u001b[0m\n\u001b[0m\u001b[1;32m      7\u001b[0m \u001b[0minorder_quick\u001b[0m\u001b[1;33m(\u001b[0m\u001b[0mr1\u001b[0m\u001b[1;33m.\u001b[0m\u001b[0mroot\u001b[0m\u001b[1;33m)\u001b[0m\u001b[1;33m\u001b[0m\u001b[0m\n",
      "\u001b[0;31mTypeError\u001b[0m: unsupported operand type(s) for +: 'NoneType' and 'list'"
     ]
    }
   ],
   "source": [
    "def inorder_quick(root):\n",
    "    if root!=None:\n",
    "        root=[root]\n",
    "    \n",
    "    \n",
    "        return inorder_quick(root[-1].left)+ root + inorder_quick(root[-1].right)\n",
    "inorder_quick(r1.root)  "
   ]
  },
  {
   "cell_type": "code",
   "execution_count": 9,
   "metadata": {
    "collapsed": false
   },
   "outputs": [],
   "source": [
    "def inOrder(root):\n",
    "    if root:\n",
    "        stack=[root.right,root,root.left]\n",
    "        check=[root]\n",
    "        while stack!=[]:\n",
    "            if stack[-1]:\n",
    "                x=stack.pop()\n",
    "                if (x.left==None and x.right==None) or x in check:\n",
    "                    print(x.info,end=' ')\n",
    "                else:\n",
    "                    if x.right:\n",
    "                        stack.append(x.right)\n",
    "                    \n",
    "                    stack.append(x)\n",
    "                    if x.left:\n",
    "                        stack.append(x.left)\n",
    "                    check.append(x)\n",
    "            else:\n",
    "                stack.pop()\n",
    "inorder_iterative(r1.root)"
   ]
  },
  {
   "cell_type": "code",
   "execution_count": 10,
   "metadata": {
    "collapsed": true
   },
   "outputs": [],
   "source": [
    "def postorder_iterative(root):\n",
    "  \n",
    "    stack=[root,root.right,root.left]\n",
    "    check=[root]\n",
    "    while stack!=[]:\n",
    "        if stack[-1]:\n",
    "            x=stack[-1]\n",
    "            if (x.left==None and x.right==None) or x in check:\n",
    "                print(x.value,end=' ')\n",
    "                stack.pop()\n",
    "            else:\n",
    "                if x.right:\n",
    "                    stack.append(x.right)\n",
    "\n",
    "                if x.left:\n",
    "                    stack.append(x.left)\n",
    "                check.append(x)\n",
    "        else:\n",
    "            stack.pop()\n",
    "        "
   ]
  },
  {
   "cell_type": "code",
   "execution_count": 11,
   "metadata": {
    "collapsed": false
   },
   "outputs": [
    {
     "name": "stdout",
     "output_type": "stream",
     "text": [
      "5 4 7 6 9 11 10 8 "
     ]
    }
   ],
   "source": [
    "postorder_iterative(r1.root)"
   ]
  },
  {
   "cell_type": "code",
   "execution_count": 12,
   "metadata": {
    "collapsed": false
   },
   "outputs": [
    {
     "data": {
      "text/plain": [
       "4"
      ]
     },
     "execution_count": 12,
     "metadata": {},
     "output_type": "execute_result"
    }
   ],
   "source": [
    "def maxDepth(node): \n",
    "    \n",
    "    if node:\n",
    "  \n",
    "        # Compute the depth of each subtree \n",
    "        lDepth = maxDepth(node.left) \n",
    "        rDepth = maxDepth(node.right) \n",
    "  \n",
    "        # Use the larger one \n",
    "        x=max(lDepth,rDepth)\n",
    "        return x+1\n",
    "    else:\n",
    "        return 0\n",
    "maxDepth(r1.root)"
   ]
  },
  {
   "cell_type": "code",
   "execution_count": 13,
   "metadata": {
    "collapsed": false
   },
   "outputs": [
    {
     "data": {
      "text/plain": [
       "4"
      ]
     },
     "execution_count": 13,
     "metadata": {},
     "output_type": "execute_result"
    }
   ],
   "source": [
    "def height_iterative(root):\n",
    "    x=0\n",
    "    if root:\n",
    "        replace=[]\n",
    "        stack=[root.right, root.left]\n",
    "        counter=1\n",
    "        if stack:\n",
    "            while stack:\n",
    "                replace=[]\n",
    "\n",
    "                while stack:\n",
    "                    if stack[-1]:\n",
    "                        x=stack.pop()\n",
    "                        if x.right:\n",
    "                            replace.append(x.right)\n",
    "                        if x.left:\n",
    "                            replace.append(x.left)\n",
    "                    else:\n",
    "                        stack.pop()\n",
    "\n",
    "                stack=replace\n",
    "                counter+=1\n",
    "            return counter+1\n",
    "height_iterative(r1.root)"
   ]
  },
  {
   "cell_type": "code",
   "execution_count": 14,
   "metadata": {
    "collapsed": false
   },
   "outputs": [
    {
     "name": "stdout",
     "output_type": "stream",
     "text": [
      "8 6 10 4 7 9 11 5 "
     ]
    }
   ],
   "source": [
    "def level_order(root):\n",
    "    stack=[root]\n",
    "    while stack:\n",
    "        x=stack.pop(0)\n",
    "        print(x.value,end=' ')\n",
    "        if x.left:\n",
    "            stack.append(x.left)\n",
    "        if x.right:\n",
    "            stack.append(x.right)\n",
    "level_order(r1.root)"
   ]
  },
  {
   "cell_type": "code",
   "execution_count": 18,
   "metadata": {
    "collapsed": false
   },
   "outputs": [
    {
     "name": "stdout",
     "output_type": "stream",
     "text": [
      "5 4 7 9 11 6 10 8\n"
     ]
    }
   ],
   "source": [
    "def reverse_level_order(root):\n",
    "    stack=[root]\n",
    "    i=0\n",
    "    while i<= len(stack)-1:\n",
    "        x=stack.pop(i)\n",
    "        stack.insert(i,x.value)\n",
    "        \n",
    "        if x.right:\n",
    "            stack.append(x.right)\n",
    "        if x.left:\n",
    "            stack.append(x.left)\n",
    "        i+=1\n",
    "    print(*reversed(stack))\n",
    "reverse_level_order(r1.root)\n",
    "       \n",
    "    "
   ]
  },
  {
   "cell_type": "code",
   "execution_count": 21,
   "metadata": {
    "collapsed": false
   },
   "outputs": [
    {
     "data": {
      "text/plain": [
       "3"
      ]
     },
     "execution_count": 21,
     "metadata": {},
     "output_type": "execute_result"
    }
   ],
   "source": [
    "def height_iterative(root):\n",
    "    \n",
    "    if root:\n",
    "        stack=[root]\n",
    "        \n",
    "        counter=0\n",
    "        while stack:\n",
    "            q=[]\n",
    "            while stack:\n",
    "                x=stack.pop(0)\n",
    "                if x.left:\n",
    "                    q.append(x.left)\n",
    "                if x.right:\n",
    "                    q.append(x.right)\n",
    "            \n",
    "            stack=q\n",
    "            counter+=1\n",
    "        return counter-1\n",
    "    else:\n",
    "        return 0\n",
    "height_iterative(r1.root)"
   ]
  },
  {
   "cell_type": "code",
   "execution_count": 3,
   "metadata": {
    "collapsed": true
   },
   "outputs": [],
   "source": [
    "class Node():\n",
    "    def __init__(self,value=None):\n",
    "        self.data=value\n",
    "        self.left=None\n",
    "        self.right=None\n",
    "class BST():\n",
    "    def __init__(self):\n",
    "        self.root=None\n",
    "    def insert(self,val):\n",
    "        new_node=Node(val)\n",
    "        if self.root==None:\n",
    "            self.root=new_node\n",
    "                \n",
    "        else:\n",
    "            curr=self.root\n",
    "            while curr:\n",
    "                if curr.data<val:\n",
    "                    if curr.right:\n",
    "                        curr=curr.right\n",
    "                    else:\n",
    "                        curr.right=new_node\n",
    "                        break\n",
    "                else:\n",
    "                    if curr.left:\n",
    "                        curr=curr.left\n",
    "                    else:\n",
    "                        curr.left=new_node\n",
    "                        break\n",
    "    def display(self):\n",
    "        pass\n",
    "        \n",
    "\n"
   ]
  },
  {
   "cell_type": "code",
   "execution_count": 4,
   "metadata": {
    "collapsed": true
   },
   "outputs": [],
   "source": [
    "tree=BST()"
   ]
  },
  {
   "cell_type": "code",
   "execution_count": 5,
   "metadata": {
    "collapsed": false
   },
   "outputs": [],
   "source": [
    "l=[7,5,6,4,10,8,9,11]\n",
    "for i in l:\n",
    "    tree.insert(i)\n",
    "    "
   ]
  },
  {
   "cell_type": "code",
   "execution_count": 6,
   "metadata": {
    "collapsed": false
   },
   "outputs": [],
   "source": [
    "root=tree.root"
   ]
  },
  {
   "cell_type": "code",
   "execution_count": 7,
   "metadata": {
    "collapsed": false
   },
   "outputs": [],
   "source": [
    "def preorder(root):\n",
    "    st=[root]\n",
    "    while st:\n",
    "        x=st.pop()\n",
    "        print(x.data,end=' ')\n",
    "        if x.right:\n",
    "            st.append(x.right)\n",
    "        if x.left:\n",
    "            st.append(x.left)\n",
    "        \n",
    "        \n",
    "    "
   ]
  },
  {
   "cell_type": "code",
   "execution_count": 8,
   "metadata": {
    "collapsed": false
   },
   "outputs": [
    {
     "name": "stdout",
     "output_type": "stream",
     "text": [
      "7 5 4 6 10 8 9 11 "
     ]
    }
   ],
   "source": [
    "preorder(root)"
   ]
  },
  {
   "cell_type": "code",
   "execution_count": 12,
   "metadata": {
    "collapsed": false
   },
   "outputs": [],
   "source": [
    "def Inorder(root):\n",
    "    st=[root]\n",
    "    check=[]\n",
    "    while st:\n",
    "        x=st.pop()\n",
    "        if x in check or (x.left==None and x.right==None):\n",
    "            print(x.data,end=' ')\n",
    "        else:\n",
    "            if x.right:\n",
    "                st.append(x.right)\n",
    "            st.append(x)\n",
    "            if x.left:\n",
    "                st.append(x.left)\n",
    "            check.append(x)\n",
    "\n",
    "        "
   ]
  },
  {
   "cell_type": "code",
   "execution_count": 13,
   "metadata": {
    "collapsed": false
   },
   "outputs": [
    {
     "name": "stdout",
     "output_type": "stream",
     "text": [
      "4 5 6 7 8 9 10 11 "
     ]
    }
   ],
   "source": [
    "Inorder(root)"
   ]
  },
  {
   "cell_type": "code",
   "execution_count": 14,
   "metadata": {
    "collapsed": true
   },
   "outputs": [],
   "source": [
    "def Postorder(root):\n",
    "    st=[root]\n",
    "    check=[]\n",
    "    while st:\n",
    "        x=st[-1]\n",
    "        if x in check or (x.left==None and x.right==None):\n",
    "            print(x.data,end=' ')\n",
    "            st.pop()\n",
    "        else:\n",
    "            if x.right:\n",
    "                st.append(x.right)\n",
    "            \n",
    "            if x.left:\n",
    "                st.append(x.left)\n",
    "            check.append(x)\n"
   ]
  },
  {
   "cell_type": "code",
   "execution_count": 15,
   "metadata": {
    "collapsed": false
   },
   "outputs": [
    {
     "name": "stdout",
     "output_type": "stream",
     "text": [
      "4 6 5 9 8 11 10 7 "
     ]
    }
   ],
   "source": [
    "Postorder(root)"
   ]
  },
  {
   "cell_type": "code",
   "execution_count": 17,
   "metadata": {
    "collapsed": false
   },
   "outputs": [
    {
     "name": "stdout",
     "output_type": "stream",
     "text": [
      "7 5 10 4 6 8 11 9 "
     ]
    }
   ],
   "source": [
    "def level_order(root):\n",
    "    stack=[root]\n",
    "    while stack:\n",
    "        x=stack.pop(0)\n",
    "        print(x.data,end=' ')\n",
    "        if x.left:\n",
    "            stack.append(x.left)\n",
    "        if x.right:\n",
    "            stack.append(x.right)\n",
    "level_order(root)"
   ]
  },
  {
   "cell_type": "code",
   "execution_count": 22,
   "metadata": {
    "collapsed": true
   },
   "outputs": [],
   "source": [
    "def height(root):\n",
    "    if root:\n",
    "        stack=[root]\n",
    "        counter=0\n",
    "        while stack:\n",
    "            q=[]\n",
    "            while stack:\n",
    "                x=stack.pop()\n",
    "                if x.right:\n",
    "                    q.append(x.right)\n",
    "                if x.left:\n",
    "                    q.append(x.left)\n",
    "            stack=q\n",
    "            counter+=1\n",
    "        \n",
    "        return counter\n",
    "    \n",
    "    return 0"
   ]
  },
  {
   "cell_type": "code",
   "execution_count": 23,
   "metadata": {
    "collapsed": false
   },
   "outputs": [
    {
     "data": {
      "text/plain": [
       "4"
      ]
     },
     "execution_count": 23,
     "metadata": {},
     "output_type": "execute_result"
    }
   ],
   "source": [
    "height(root)"
   ]
  },
  {
   "cell_type": "code",
   "execution_count": null,
   "metadata": {
    "collapsed": true
   },
   "outputs": [],
   "source": []
  }
 ],
 "metadata": {
  "anaconda-cloud": {},
  "kernelspec": {
   "display_name": "Python [conda root]",
   "language": "python",
   "name": "conda-root-py"
  },
  "language_info": {
   "codemirror_mode": {
    "name": "ipython",
    "version": 3
   },
   "file_extension": ".py",
   "mimetype": "text/x-python",
   "name": "python",
   "nbconvert_exporter": "python",
   "pygments_lexer": "ipython3",
   "version": "3.5.2"
  }
 },
 "nbformat": 4,
 "nbformat_minor": 1
}
