{
 "cells": [
  {
   "cell_type": "code",
   "execution_count": 1,
   "metadata": {
    "collapsed": true
   },
   "outputs": [],
   "source": [
    "#Graphs have vertices V, endges E and follow a path from vertex to vertex\n",
    "#Directed and cyclic graphs are  certain types\n",
    "#Graphs have several r eal world applications, and can be solved using a fixed\n",
    "#algorithms and payloads\n",
    "#Edges can be one way or two ways having differet weights\n",
    "#G=(V,E)\n",
    "#E=(v0,v1,w1), v: vertices, w: weight.\n",
    "#Path is travelling from one vertex to another using edges and their weights\n",
    "#Vertex have key\n",
    "#Check out the course material for more"
   ]
  },
  {
   "cell_type": "code",
   "execution_count": 2,
   "metadata": {
    "collapsed": false
   },
   "outputs": [],
   "source": [
    "class vertex():\n",
    "    def __init__(self,n=None):\n",
    "        self.n=n\n",
    "        self.d={}"
   ]
  },
  {
   "cell_type": "code",
   "execution_count": 3,
   "metadata": {
    "collapsed": false
   },
   "outputs": [],
   "source": [
    "class Graph():\n",
    "    def __init__(self):\n",
    "        self.g=vertex()\n",
    "        self.l=[]\n",
    "        \n",
    "    def addvertex(self,a):\n",
    "        if a not in self.l:\n",
    "            self.g.d[a]=[]\n",
    "            self.l.append(a)\n",
    "    \n",
    "    def addEdge(self,u,v):\n",
    "        if u in self.l and  v in self.l:\n",
    "            self.g.d[u].append(v)\n",
    "            self.g.d[v].append(u)\n",
    "        if u not in self.l:\n",
    "            self.g.d[u]=[]\n",
    "            self.g.d[u].append(v)\n",
    "            self.g.d[v].append(u)\n",
    "            self.l.append(u)\n",
    "        if v not in self.l:\n",
    "            self.g.d[v]=[]\n",
    "            self.g.d[v].append(u)\n",
    "            self.g.d[u].append(v)\n",
    "            self.l.append(v)\n",
    "    def __print__(self):\n",
    "        for i in self.l:\n",
    "            print('{} is conncected to {}'.format(i,self.g.d[i]))\n",
    "         \n",
    "    \n",
    "            \n",
    "            \n",
    "    \n",
    "            \n",
    "            \n",
    "            \n",
    "        "
   ]
  },
  {
   "cell_type": "code",
   "execution_count": 4,
   "metadata": {
    "collapsed": false
   },
   "outputs": [],
   "source": [
    "x=Graph()"
   ]
  },
  {
   "cell_type": "code",
   "execution_count": 5,
   "metadata": {
    "collapsed": false
   },
   "outputs": [],
   "source": [
    "x.addvertex('a')\n",
    "x.addvertex('b')\n",
    "x.addvertex('x')\n"
   ]
  },
  {
   "cell_type": "code",
   "execution_count": 6,
   "metadata": {
    "collapsed": false
   },
   "outputs": [
    {
     "name": "stdout",
     "output_type": "stream",
     "text": [
      "a is conncected to []\n",
      "b is conncected to []\n",
      "x is conncected to []\n"
     ]
    }
   ],
   "source": [
    "x.__print__()"
   ]
  },
  {
   "cell_type": "code",
   "execution_count": 7,
   "metadata": {
    "collapsed": false
   },
   "outputs": [],
   "source": [
    "x.addEdge('a','b')"
   ]
  },
  {
   "cell_type": "code",
   "execution_count": 8,
   "metadata": {
    "collapsed": false
   },
   "outputs": [
    {
     "name": "stdout",
     "output_type": "stream",
     "text": [
      "a is conncected to ['b']\n",
      "b is conncected to ['a']\n",
      "x is conncected to []\n"
     ]
    }
   ],
   "source": [
    "x.__print__()"
   ]
  },
  {
   "cell_type": "code",
   "execution_count": 9,
   "metadata": {
    "collapsed": false
   },
   "outputs": [],
   "source": [
    "x.addEdge('d','b')"
   ]
  },
  {
   "cell_type": "code",
   "execution_count": 10,
   "metadata": {
    "collapsed": false
   },
   "outputs": [
    {
     "name": "stdout",
     "output_type": "stream",
     "text": [
      "a is conncected to ['b']\n",
      "b is conncected to ['a', 'd']\n",
      "x is conncected to []\n",
      "d is conncected to ['b']\n"
     ]
    }
   ],
   "source": [
    "x.__print__()"
   ]
  },
  {
   "cell_type": "code",
   "execution_count": 11,
   "metadata": {
    "collapsed": false
   },
   "outputs": [],
   "source": [
    "x.addEdge('x','y')"
   ]
  },
  {
   "cell_type": "code",
   "execution_count": 12,
   "metadata": {
    "collapsed": false
   },
   "outputs": [
    {
     "name": "stdout",
     "output_type": "stream",
     "text": [
      "a is conncected to ['b']\n",
      "b is conncected to ['a', 'd']\n",
      "x is conncected to ['y']\n",
      "d is conncected to ['b']\n",
      "y is conncected to ['x']\n"
     ]
    }
   ],
   "source": [
    "x.__print__()"
   ]
  },
  {
   "cell_type": "code",
   "execution_count": 13,
   "metadata": {
    "collapsed": false
   },
   "outputs": [],
   "source": [
    "#Implementing a graph using an alternate method."
   ]
  },
  {
   "cell_type": "code",
   "execution_count": 16,
   "metadata": {
    "collapsed": false
   },
   "outputs": [],
   "source": [
    "#BFS"
   ]
  },
  {
   "cell_type": "code",
   "execution_count": 259,
   "metadata": {
    "collapsed": false
   },
   "outputs": [],
   "source": [
    "class Vertex():\n",
    "    def __init__(self,n):\n",
    "        self.n=n\n",
    "class Graphx():\n",
    "    def __init__(self):\n",
    "        self.d={}\n",
    "        self.distance={}\n",
    "        self.visited=[]\n",
    "        self.q=[]\n",
    "        self.l=[]\n",
    "    def add_vertex(self,n):\n",
    "        node=Vertex(n)\n",
    "        self.d[node.n]=[]\n",
    "        self.l.append(node.n)\n",
    "        \n",
    "    def add_edge(self,u,v):\n",
    "        if (u in self.l) and (v in self.l) :\n",
    "            self.d[u].append(v)\n",
    "            self.d[v].append(u)\n",
    "        else:\n",
    "            return False\n",
    "    def bfs(self,s):\n",
    "        self.q.append(s)\n",
    "        self.distance[s]=0\n",
    "        self.visited.append(s)\n",
    "        while len(self.q)>=1:\n",
    "            \n",
    "\n",
    "            for j in self.d[self.q[0]]:\n",
    "                if j not in self.visited:\n",
    "                    self.q.append(j)\n",
    "                    self.visited.append(j)\n",
    "                    self.distance[j]=self.distance[self.q[0]]+1\n",
    "            \n",
    "            self.q.pop(0)\n",
    "            \n",
    "                \n",
    "            \n",
    "        \n",
    "        \n",
    "        \n",
    "        "
   ]
  },
  {
   "cell_type": "code",
   "execution_count": 260,
   "metadata": {
    "collapsed": false
   },
   "outputs": [],
   "source": [
    "g=Graphx()"
   ]
  },
  {
   "cell_type": "code",
   "execution_count": 261,
   "metadata": {
    "collapsed": false
   },
   "outputs": [],
   "source": [
    "g.add_vertex('a')\n",
    "g.add_vertex('b')\n",
    "g.add_vertex('c')\n",
    "g.add_vertex('d')\n",
    "g.add_vertex('e')\n",
    "g.add_vertex('f')\n",
    "g.add_vertex('g')\n",
    "g.add_vertex('h')\n",
    "\n"
   ]
  },
  {
   "cell_type": "code",
   "execution_count": 262,
   "metadata": {
    "collapsed": false
   },
   "outputs": [],
   "source": [
    "g.add_edge('a','b')\n",
    "g.add_edge('a','d')\n",
    "g.add_edge('b','c')\n",
    "g.add_edge('d','e')\n",
    "g.add_edge('d','f')\n",
    "g.add_edge('e','g')\n",
    "g.add_edge('f','h')\n",
    "g.add_edge('e','f')"
   ]
  },
  {
   "cell_type": "code",
   "execution_count": 263,
   "metadata": {
    "collapsed": false
   },
   "outputs": [
    {
     "data": {
      "text/plain": [
       "{'a': ['b', 'd'],\n",
       " 'b': ['a', 'c'],\n",
       " 'c': ['b'],\n",
       " 'd': ['a', 'e', 'f'],\n",
       " 'e': ['d', 'g', 'f'],\n",
       " 'f': ['d', 'h', 'e'],\n",
       " 'g': ['e'],\n",
       " 'h': ['f']}"
      ]
     },
     "execution_count": 263,
     "metadata": {},
     "output_type": "execute_result"
    }
   ],
   "source": [
    "g.d"
   ]
  },
  {
   "cell_type": "code",
   "execution_count": 264,
   "metadata": {
    "collapsed": false
   },
   "outputs": [],
   "source": [
    "g.bfs('a')"
   ]
  },
  {
   "cell_type": "code",
   "execution_count": 268,
   "metadata": {
    "collapsed": false
   },
   "outputs": [
    {
     "data": {
      "text/plain": [
       "{'a': 0, 'b': 1, 'c': 2, 'd': 1, 'e': 2, 'f': 2, 'g': 3, 'h': 3}"
      ]
     },
     "execution_count": 268,
     "metadata": {},
     "output_type": "execute_result"
    }
   ],
   "source": [
    "g.distance"
   ]
  },
  {
   "cell_type": "code",
   "execution_count": 267,
   "metadata": {
    "collapsed": false
   },
   "outputs": [
    {
     "data": {
      "text/plain": [
       "['a', 'b', 'd', 'c', 'e', 'f', 'g', 'h']"
      ]
     },
     "execution_count": 267,
     "metadata": {},
     "output_type": "execute_result"
    }
   ],
   "source": [
    "\n",
    "g.visited"
   ]
  },
  {
   "cell_type": "code",
   "execution_count": 6,
   "metadata": {
    "collapsed": false
   },
   "outputs": [],
   "source": [
    "s='abba'\n"
   ]
  },
  {
   "cell_type": "code",
   "execution_count": 11,
   "metadata": {
    "collapsed": false
   },
   "outputs": [],
   "source": [
    "from collections import Counter"
   ]
  },
  {
   "cell_type": "code",
   "execution_count": 12,
   "metadata": {
    "collapsed": false
   },
   "outputs": [
    {
     "data": {
      "text/plain": [
       "Counter({'a': 2, 'b': 2})"
      ]
     },
     "execution_count": 12,
     "metadata": {},
     "output_type": "execute_result"
    }
   ],
   "source": [
    "Counter(s)"
   ]
  },
  {
   "cell_type": "code",
   "execution_count": 20,
   "metadata": {
    "collapsed": true
   },
   "outputs": [],
   "source": [
    "for i in range(len(s)):\n",
    "\n",
    "    for j in range(i+1,len(s)+1):\n",
    "\n",
    "        list1= list(s[i:j].strip())\n",
    "\n",
    "        list1.sort()\n",
    "\n",
    "        transf=''.join(list1)"
   ]
  },
  {
   "cell_type": "code",
   "execution_count": 21,
   "metadata": {
    "collapsed": false
   },
   "outputs": [
    {
     "data": {
      "text/plain": [
       "['a']"
      ]
     },
     "execution_count": 21,
     "metadata": {},
     "output_type": "execute_result"
    }
   ],
   "source": [
    "list1"
   ]
  },
  {
   "cell_type": "code",
   "execution_count": 23,
   "metadata": {
    "collapsed": false
   },
   "outputs": [
    {
     "data": {
      "text/plain": [
       "'a'"
      ]
     },
     "execution_count": 23,
     "metadata": {},
     "output_type": "execute_result"
    }
   ],
   "source": [
    "s[0:1].strip()"
   ]
  },
  {
   "cell_type": "code",
   "execution_count": 35,
   "metadata": {
    "collapsed": false
   },
   "outputs": [],
   "source": []
  },
  {
   "cell_type": "code",
   "execution_count": 99,
   "metadata": {
    "collapsed": false
   },
   "outputs": [
    {
     "name": "stdout",
     "output_type": "stream",
     "text": [
      "c 0 {'c': 1}\n",
      "d 0 {'c': 1, 'd': 1}\n",
      "c 1 {'c': 2, 'd': 1}\n",
      "d 2 {'c': 2, 'd': 2}\n",
      "cd 2 {'c': 2, 'cd': 1, 'd': 2}\n",
      "cd 3 {'c': 2, 'cd': 2, 'd': 2}\n",
      "cd 5 {'c': 2, 'cd': 3, 'd': 2}\n",
      "ccd 5 {'c': 2, 'cd': 3, 'ccd': 1, 'd': 2}\n",
      "cdd 5 {'c': 2, 'cd': 3, 'ccd': 1, 'd': 2, 'cdd': 1}\n"
     ]
    }
   ],
   "source": [
    "s='cdcd'\n",
    "d={}\n",
    "c=0\n",
    "res=0\n",
    "for i in range(1,len(s)):\n",
    "    for j in range(0,len(s)-i+1):\n",
    "      \n",
    "        subs=''.join(sorted(s[j:j+i]))\n",
    "        if subs in d:\n",
    "            d[subs]+=1\n",
    "        else:\n",
    "            d[subs]=1\n",
    "        res=res+d[subs]-1\n",
    "        print(subs,res, d)\n",
    "\n",
    "        "
   ]
  },
  {
   "cell_type": "code",
   "execution_count": 97,
   "metadata": {
    "collapsed": false
   },
   "outputs": [
    {
     "data": {
      "text/plain": [
       "{'c': 2, 'ccd': 1, 'cd': 3, 'cdd': 1, 'd': 2}"
      ]
     },
     "execution_count": 97,
     "metadata": {},
     "output_type": "execute_result"
    }
   ],
   "source": [
    "d"
   ]
  },
  {
   "cell_type": "code",
   "execution_count": 92,
   "metadata": {
    "collapsed": false
   },
   "outputs": [
    {
     "data": {
      "text/plain": [
       "5"
      ]
     },
     "execution_count": 92,
     "metadata": {},
     "output_type": "execute_result"
    }
   ],
   "source": [
    "res"
   ]
  },
  {
   "cell_type": "code",
   "execution_count": 103,
   "metadata": {
    "collapsed": false
   },
   "outputs": [],
   "source": [
    "dict={}\n",
    "dict[1] = 1"
   ]
  },
  {
   "cell_type": "code",
   "execution_count": 104,
   "metadata": {
    "collapsed": false
   },
   "outputs": [
    {
     "data": {
      "text/plain": [
       "{1: 1}"
      ]
     },
     "execution_count": 104,
     "metadata": {},
     "output_type": "execute_result"
    }
   ],
   "source": [
    "dict"
   ]
  },
  {
   "cell_type": "code",
   "execution_count": 123,
   "metadata": {
    "collapsed": false
   },
   "outputs": [
    {
     "name": "stdout",
     "output_type": "stream",
     "text": [
      "cdd\n",
      "cdd\n",
      "cdd\n",
      "cdd\n",
      "cdd\n",
      "cdd\n",
      "cdd\n",
      "cdd\n",
      "cdd\n",
      "cdd\n",
      "cdd\n",
      "cdd\n",
      "cdd\n",
      "cdd\n",
      "cdd\n",
      "cdd\n",
      "cdd\n",
      "cdd\n",
      "cdd\n",
      "cdd\n"
     ]
    }
   ],
   "source": [
    "s='cdeabc'\n",
    "d={}\n",
    "for i in range(1,len(s)):\n",
    "    for j in range(0,len(s)-i+1):\n",
    "        sub=''.join(sorted(s[j:j+i]))\n",
    "        \n",
    "        if sub in d:\n",
    "            d[subs]+=1\n",
    "        else:\n",
    "            d[subs]=1\n",
    "        print(subs)"
   ]
  },
  {
   "cell_type": "code",
   "execution_count": 124,
   "metadata": {
    "collapsed": false
   },
   "outputs": [
    {
     "data": {
      "text/plain": [
       "{'cdd': 1}"
      ]
     },
     "execution_count": 124,
     "metadata": {},
     "output_type": "execute_result"
    }
   ],
   "source": [
    "d"
   ]
  },
  {
   "cell_type": "code",
   "execution_count": null,
   "metadata": {
    "collapsed": true
   },
   "outputs": [],
   "source": []
  }
 ],
 "metadata": {
  "anaconda-cloud": {},
  "kernelspec": {
   "display_name": "Python [conda root]",
   "language": "python",
   "name": "conda-root-py"
  },
  "language_info": {
   "codemirror_mode": {
    "name": "ipython",
    "version": 3
   },
   "file_extension": ".py",
   "mimetype": "text/x-python",
   "name": "python",
   "nbconvert_exporter": "python",
   "pygments_lexer": "ipython3",
   "version": "3.5.2"
  }
 },
 "nbformat": 4,
 "nbformat_minor": 1
}
