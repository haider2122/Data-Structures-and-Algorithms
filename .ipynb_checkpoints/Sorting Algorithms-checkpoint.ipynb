{
 "cells": [
  {
   "cell_type": "code",
   "execution_count": 1,
   "metadata": {
    "collapsed": true
   },
   "outputs": [],
   "source": [
    "#Bubble sort.\n",
    "#A swapping of Adjacent elements takes place.\n",
    "#Smaller elements 'bubble' their way up to the start\n",
    "#Larger elements 'bubble' their way up to the end"
   ]
  },
  {
   "cell_type": "code",
   "execution_count": 2,
   "metadata": {
    "collapsed": false
   },
   "outputs": [],
   "source": [
    "# visualgo.net- link for understanding and visualization"
   ]
  },
  {
   "cell_type": "code",
   "execution_count": 11,
   "metadata": {
    "collapsed": false
   },
   "outputs": [],
   "source": [
    "def Bblsort(arr):\n",
    "    for i in range(len(arr)):\n",
    "        for j in range(0,len(arr)-1-i):\n",
    "            if arr[j]>arr[j+1]:\n",
    "                temp=arr[j]\n",
    "                arr[j]=arr[j+1]\n",
    "                arr[j+1]=temp\n",
    "    return arr"
   ]
  },
  {
   "cell_type": "code",
   "execution_count": 12,
   "metadata": {
    "collapsed": false
   },
   "outputs": [
    {
     "data": {
      "text/plain": [
       "[2, 3, 4, 6, 8, 10]"
      ]
     },
     "execution_count": 12,
     "metadata": {},
     "output_type": "execute_result"
    }
   ],
   "source": [
    "Bblsort([4,2,6,8,3,10])"
   ]
  },
  {
   "cell_type": "code",
   "execution_count": 13,
   "metadata": {
    "collapsed": false
   },
   "outputs": [],
   "source": [
    "#Selection Sort"
   ]
  },
  {
   "cell_type": "code",
   "execution_count": 14,
   "metadata": {
    "collapsed": false
   },
   "outputs": [],
   "source": [
    "#This can be done with both larger and smaller element swaps.\n",
    "#It requires us to find largest and smallest elements constantly and swap them\n",
    "#To arrive at our sorted list."
   ]
  },
  {
   "cell_type": "code",
   "execution_count": 123,
   "metadata": {
    "collapsed": false
   },
   "outputs": [],
   "source": [
    "def Selection_Sort(arr):\n",
    "    for i in range(0,len(arr)):\n",
    "        minq=arr[i]\n",
    "        loc=0\n",
    "        x=False\n",
    "        for j in range(i+1,len(arr)):\n",
    "            \n",
    "            if arr[j]<minq:\n",
    "                minq=arr[j]\n",
    "                loc=j\n",
    "                x=True\n",
    "        if x==True:        \n",
    "            temp=arr[i]\n",
    "            arr[i]=minq \n",
    "            arr[loc]=temp\n",
    "    return arr"
   ]
  },
  {
   "cell_type": "code",
   "execution_count": 124,
   "metadata": {
    "collapsed": false
   },
   "outputs": [
    {
     "data": {
      "text/plain": [
       "[1, 1, 2, 4, 5, 8, 24]"
      ]
     },
     "execution_count": 124,
     "metadata": {},
     "output_type": "execute_result"
    }
   ],
   "source": [
    "Selection_Sort([2,1,5,8,24,4,1])"
   ]
  },
  {
   "cell_type": "code",
   "execution_count": 21,
   "metadata": {
    "collapsed": false
   },
   "outputs": [],
   "source": [
    "def Selection_Sort01(arr):\n",
    "    for i in range(0,len(arr)):\n",
    "        min_loc=i\n",
    "        for j in range(i+1,len(arr)):\n",
    "            \n",
    "            if arr[j]<arr[min_loc]:\n",
    "                min_loc=j\n",
    "                \n",
    "                \n",
    "               \n",
    "        temp=arr[i]\n",
    "        arr[i]=arr[min_loc] \n",
    "        arr[min_loc]=temp\n",
    "    return arr"
   ]
  },
  {
   "cell_type": "code",
   "execution_count": 22,
   "metadata": {
    "collapsed": false
   },
   "outputs": [
    {
     "data": {
      "text/plain": [
       "[1, 1, 2, 4, 5, 8, 24]"
      ]
     },
     "execution_count": 22,
     "metadata": {},
     "output_type": "execute_result"
    }
   ],
   "source": [
    "Selection_Sort01([2,1,5,8,24,4,1])"
   ]
  },
  {
   "cell_type": "code",
   "execution_count": 24,
   "metadata": {
    "collapsed": false
   },
   "outputs": [
    {
     "name": "stdout",
     "output_type": "stream",
     "text": [
      "2\n",
      "3\n",
      "4\n",
      "5\n"
     ]
    }
   ],
   "source": [
    "a=[1,2,3,4,5]\n",
    "for i in range(1,len(a)):\n",
    "    print(a[i])"
   ]
  },
  {
   "cell_type": "code",
   "execution_count": 25,
   "metadata": {
    "collapsed": true
   },
   "outputs": [],
   "source": [
    "#Insertion sort.\n",
    "#Sorst from the first element, and uses insertion "
   ]
  },
  {
   "cell_type": "code",
   "execution_count": 42,
   "metadata": {
    "collapsed": false
   },
   "outputs": [],
   "source": [
    "def insertion_sort(arr):\n",
    "    for i in range(1,len(arr)):\n",
    "        key=arr[i]\n",
    "        j=i-1\n",
    "        while j>=0 and key<arr[j]:\n",
    "            arr[j+1]=arr[j]\n",
    "            arr[j]=key\n",
    "            j = j-1\n",
    "    return arr"
   ]
  },
  {
   "cell_type": "code",
   "execution_count": 43,
   "metadata": {
    "collapsed": false
   },
   "outputs": [
    {
     "data": {
      "text/plain": [
       "[1, 2, 4, 6, 9, 10]"
      ]
     },
     "execution_count": 43,
     "metadata": {},
     "output_type": "execute_result"
    }
   ],
   "source": [
    "insertion_sort([4,2,6,9,1,10])"
   ]
  },
  {
   "cell_type": "code",
   "execution_count": 44,
   "metadata": {
    "collapsed": true
   },
   "outputs": [],
   "source": [
    "#SHELL SORT"
   ]
  },
  {
   "cell_type": "code",
   "execution_count": 45,
   "metadata": {
    "collapsed": true
   },
   "outputs": [],
   "source": [
    "#Similar to insertion sort, but improves on it by breaking the subarary to parts.\n",
    "#This reduces the total number of exchanges that take place"
   ]
  },
  {
   "cell_type": "code",
   "execution_count": 55,
   "metadata": {
    "collapsed": false
   },
   "outputs": [],
   "source": [
    "def shellSort(arr): \n",
    "  \n",
    "    # Start with a big gap, then reduce the gap \n",
    "    n = len(arr) \n",
    "    gap = int(n/2)\n",
    "  \n",
    "    # Do a gapped insertion sort for this gap size. \n",
    "    # The first gap elements a[0..gap-1] are already in gapped  \n",
    "    # order keep adding one more element until the entire array \n",
    "    # is gap sorted \n",
    "    while gap > 0: \n",
    "  \n",
    "        for i in range(gap,n): \n",
    "  \n",
    "            # add a[i] to the elements that have been gap sorted \n",
    "            # save a[i] in temp and make a hole at position i \n",
    "            temp = arr[i] \n",
    "  \n",
    "            # shift earlier gap-sorted elements up until the correct \n",
    "            # location for a[i] is found \n",
    "            j = i \n",
    "            while  j >= gap and arr[j-gap] >temp: \n",
    "                arr[j] = arr[j-gap] \n",
    "                j -= gap \n",
    "                print(gap)\n",
    "            # put temp (the original a[i]) in its correct location \n",
    "            arr[j] = temp \n",
    "        gap= int(gap/2)"
   ]
  },
  {
   "cell_type": "code",
   "execution_count": 57,
   "metadata": {
    "collapsed": false
   },
   "outputs": [
    {
     "name": "stdout",
     "output_type": "stream",
     "text": [
      "3\n",
      "1\n",
      "1\n",
      "1\n",
      "1\n",
      "1\n"
     ]
    },
    {
     "data": {
      "text/plain": [
       "[1, 2, 3, 4, 6, 8]"
      ]
     },
     "execution_count": 57,
     "metadata": {},
     "output_type": "execute_result"
    }
   ],
   "source": [
    "arr=[4,2,8,6,3,1]\n",
    "shellSort(arr)\n",
    "arr"
   ]
  },
  {
   "cell_type": "code",
   "execution_count": 58,
   "metadata": {
    "collapsed": true
   },
   "outputs": [],
   "source": [
    "#Merge Sort"
   ]
  },
  {
   "cell_type": "code",
   "execution_count": 60,
   "metadata": {
    "collapsed": true
   },
   "outputs": [],
   "source": [
    "#Merge sort uses divide and conquer strategy\n",
    "#splits list into parts, and sorts them on their way back.\n",
    "#First then list is broken down, and is then further combined."
   ]
  },
  {
   "cell_type": "code",
   "execution_count": 86,
   "metadata": {
    "collapsed": true
   },
   "outputs": [],
   "source": [
    "def merge_sort(arr):\n",
    "    \n",
    "    if len(arr)>1:\n",
    "        mid = int(len(arr)/2)\n",
    "        lefthalf = arr[:mid]\n",
    "        righthalf = arr[mid:]\n",
    "        \n",
    "        merge_sort(lefthalf)\n",
    "\n",
    "        merge_sort(righthalf)\n",
    "        \n",
    "        i=0\n",
    "        j=0\n",
    "        k=0\n",
    "        while i < len(lefthalf) and j < len(righthalf):\n",
    "            if lefthalf[i] < righthalf[j]:\n",
    "                arr[k]=lefthalf[i]\n",
    "                i=i+1\n",
    "            else:\n",
    "                arr[k]=righthalf[j]\n",
    "                j=j+1\n",
    "            k=k+1\n",
    "\n",
    "        while i < len(lefthalf):\n",
    "            arr[k]=lefthalf[i]\n",
    "            i=i+1\n",
    "            k=k+1\n",
    "\n",
    "        while j < len(righthalf):\n",
    "            arr[k]=righthalf[j]\n",
    "            j=j+1\n",
    "            k=k+1\n",
    "    return arr"
   ]
  },
  {
   "cell_type": "code",
   "execution_count": 87,
   "metadata": {
    "collapsed": false
   },
   "outputs": [
    {
     "name": "stdout",
     "output_type": "stream",
     "text": [
      "[11, 2]\n",
      "[11, 2, 5, 4]\n",
      "[5, 4]\n",
      "[11, 2, 5, 4, 7, 6, 8, 1, 23]\n",
      "[7, 6]\n",
      "[7, 6, 8, 1, 23]\n",
      "[8, 1, 23]\n",
      "[1, 23]\n"
     ]
    },
    {
     "data": {
      "text/plain": [
       "[1, 2, 4, 5, 6, 7, 8, 11, 23]"
      ]
     },
     "execution_count": 87,
     "metadata": {},
     "output_type": "execute_result"
    }
   ],
   "source": [
    "arr = [11,2,5,4,7,6,8,1,23]\n",
    "merge_sort(arr)\n"
   ]
  },
  {
   "cell_type": "code",
   "execution_count": null,
   "metadata": {
    "collapsed": true
   },
   "outputs": [],
   "source": []
  },
  {
   "cell_type": "code",
   "execution_count": null,
   "metadata": {
    "collapsed": true
   },
   "outputs": [],
   "source": []
  },
  {
   "cell_type": "code",
   "execution_count": null,
   "metadata": {
    "collapsed": true
   },
   "outputs": [],
   "source": []
  },
  {
   "cell_type": "code",
   "execution_count": null,
   "metadata": {
    "collapsed": true
   },
   "outputs": [],
   "source": []
  },
  {
   "cell_type": "code",
   "execution_count": null,
   "metadata": {
    "collapsed": true
   },
   "outputs": [],
   "source": []
  }
 ],
 "metadata": {
  "anaconda-cloud": {},
  "kernelspec": {
   "display_name": "Python [conda env:New folder]",
   "language": "python",
   "name": "conda-env-New folder-py"
  },
  "language_info": {
   "codemirror_mode": {
    "name": "ipython",
    "version": 3
   },
   "file_extension": ".py",
   "mimetype": "text/x-python",
   "name": "python",
   "nbconvert_exporter": "python",
   "pygments_lexer": "ipython3",
   "version": "3.5.6"
  }
 },
 "nbformat": 4,
 "nbformat_minor": 1
}
