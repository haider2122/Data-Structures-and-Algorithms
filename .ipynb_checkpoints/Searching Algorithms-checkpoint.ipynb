{
 "cells": [
  {
   "cell_type": "code",
   "execution_count": 1,
   "metadata": {
    "collapsed": true
   },
   "outputs": [],
   "source": [
    "#Ordered Sequential Search"
   ]
  },
  {
   "cell_type": "code",
   "execution_count": 2,
   "metadata": {
    "collapsed": false
   },
   "outputs": [],
   "source": [
    "def Order_seqSearch(l,ele):\n",
    "    x=False\n",
    "    i=0\n",
    "    while i<len(l):\n",
    "        if l[i]==ele:\n",
    "            x=True\n",
    "            break\n",
    "        if l[i]>ele:\n",
    "            break\n",
    "        i=i+1\n",
    "    return x,i   "
   ]
  },
  {
   "cell_type": "code",
   "execution_count": 3,
   "metadata": {
    "collapsed": false
   },
   "outputs": [
    {
     "data": {
      "text/plain": [
       "(False, 6)"
      ]
     },
     "execution_count": 3,
     "metadata": {},
     "output_type": "execute_result"
    }
   ],
   "source": [
    "Order_seqSearch([1,2,8,10,11,15,19,20,22,24,26,30],16)"
   ]
  },
  {
   "cell_type": "code",
   "execution_count": 4,
   "metadata": {
    "collapsed": true
   },
   "outputs": [],
   "source": [
    "#The above is the code for sequential search"
   ]
  },
  {
   "cell_type": "code",
   "execution_count": 5,
   "metadata": {
    "collapsed": true
   },
   "outputs": [],
   "source": [
    "#Binary Search"
   ]
  },
  {
   "cell_type": "code",
   "execution_count": 6,
   "metadata": {
    "collapsed": false
   },
   "outputs": [],
   "source": [
    "def bnsearch(l,ele):\n",
    "    first=0\n",
    "    last=(len(l)-1)\n",
    "    z=False\n",
    "    while first<=last:\n",
    "        mid=int((first+last)/2)\n",
    "        if l[mid]==ele:\n",
    "            z=True\n",
    "            break\n",
    "        \n",
    "        else:\n",
    "            if ele<l[mid]:\n",
    "                last=(mid-1)\n",
    "        \n",
    "            else:\n",
    "                first=(mid+1)\n",
    "    return z\n",
    "            \n",
    "            \n",
    "            \n",
    "        \n",
    "        \n",
    "        \n",
    "        "
   ]
  },
  {
   "cell_type": "code",
   "execution_count": 7,
   "metadata": {
    "collapsed": false
   },
   "outputs": [
    {
     "data": {
      "text/plain": [
       "False"
      ]
     },
     "execution_count": 7,
     "metadata": {},
     "output_type": "execute_result"
    }
   ],
   "source": [
    "bnsearch([1,2,4,6,8,10],11)\n"
   ]
  },
  {
   "cell_type": "code",
   "execution_count": 8,
   "metadata": {
    "collapsed": false
   },
   "outputs": [
    {
     "ename": "SyntaxError",
     "evalue": "'break' outside loop (<ipython-input-8-92fd4df84f0a>, line 7)",
     "output_type": "error",
     "traceback": [
      "\u001b[0;36m  File \u001b[0;32m\"<ipython-input-8-92fd4df84f0a>\"\u001b[0;36m, line \u001b[0;32m7\u001b[0m\n\u001b[0;31m    break\u001b[0m\n\u001b[0m    ^\u001b[0m\n\u001b[0;31mSyntaxError\u001b[0m\u001b[0;31m:\u001b[0m 'break' outside loop\n"
     ]
    }
   ],
   "source": [
    "def Rbnsearch(arr,el):\n",
    "    first=0\n",
    "    last=(len(arr)-1)\n",
    "    f=False\n",
    "    mid=int((first+last)/2)\n",
    "    if mid>last:\n",
    "        break\n",
    "    elif arr[mid] == el:\n",
    "        f=True\n",
    "    else:\n",
    "        if el<arr[mid]:\n",
    "            return Rbnsearch(l[:(mid)],el)\n",
    "        if el>arr[mid]:\n",
    "            return Rbnsearch(l[(mid+1):],el)\n",
    "    "
   ]
  },
  {
   "cell_type": "code",
   "execution_count": null,
   "metadata": {
    "collapsed": false
   },
   "outputs": [],
   "source": [
    "arr=[1,2,4,6,8,10]\n",
    "el=6\n",
    "Rbnsearch(arr,el)"
   ]
  },
  {
   "cell_type": "code",
   "execution_count": 9,
   "metadata": {
    "collapsed": true
   },
   "outputs": [],
   "source": [
    "#Hashing\n",
    "#Building a DS that searches in complexity O(1)"
   ]
  },
  {
   "cell_type": "code",
   "execution_count": 10,
   "metadata": {
    "collapsed": true
   },
   "outputs": [],
   "source": [
    "#We most commonly use the remianinder method to assign slot number.\n",
    "#item % tablesize\n",
    "#Load Factor=No. elements occupied / tablesize\n",
    "#Further checkout the Folding Method and Mid-Square Method to form hash fuction\n",
    "                                                            #(Slot number)\n",
    "    "
   ]
  },
  {
   "cell_type": "code",
   "execution_count": 11,
   "metadata": {
    "collapsed": true
   },
   "outputs": [],
   "source": [
    "#Collision resolution-\n",
    "#Linear Probing is a general form of rehashing\n",
    "#Chaining is another method to do the same"
   ]
  },
  {
   "cell_type": "code",
   "execution_count": 103,
   "metadata": {
    "collapsed": false
   },
   "outputs": [],
   "source": [
    "class HashT():\n",
    "    def  __init__(self,size):\n",
    "        self.size=size\n",
    "        s=lambda size: size*[None]\n",
    "        self.slots=s(size)\n",
    "        self.data=s(size)\n",
    "    def insert(self,key,data):\n",
    "        hashv=self.hvalue(key)\n",
    "        if self.slots[hashv]==None:\n",
    "            self.slots[hashv]=key\n",
    "            self.data[hashv]=data\n",
    "        else:\n",
    "            if None in self.slots: \n",
    "                x=key\n",
    "                while True:\n",
    "                    x=x+1\n",
    "                    rehash=self.rhash(x)\n",
    "                    if self.slots[rehash]==None:\n",
    "                        break\n",
    "\n",
    "                self.slots[rehash]=key\n",
    "                self.data[rehash]=data\n",
    "            else:\n",
    "                return('Overflow')\n",
    "\n",
    "    def hvalue(self,key):\n",
    "        return key%self.size\n",
    "    def rhash(self,key):\n",
    "        return (key)%self.size\n",
    "    "
   ]
  },
  {
   "cell_type": "code",
   "execution_count": 104,
   "metadata": {
    "collapsed": false
   },
   "outputs": [],
   "source": [
    "h=HashT(4)"
   ]
  },
  {
   "cell_type": "code",
   "execution_count": 105,
   "metadata": {
    "collapsed": false
   },
   "outputs": [],
   "source": [
    "h.insert(8,'eggs')\n"
   ]
  },
  {
   "cell_type": "code",
   "execution_count": 106,
   "metadata": {
    "collapsed": false
   },
   "outputs": [],
   "source": [
    "h.insert(12,'milk')"
   ]
  },
  {
   "cell_type": "code",
   "execution_count": 113,
   "metadata": {
    "collapsed": false,
    "scrolled": true
   },
   "outputs": [
    {
     "data": {
      "text/plain": [
       "[8, 12, 16, 37]"
      ]
     },
     "execution_count": 113,
     "metadata": {},
     "output_type": "execute_result"
    }
   ],
   "source": [
    "h.slots"
   ]
  },
  {
   "cell_type": "code",
   "execution_count": 114,
   "metadata": {
    "collapsed": false
   },
   "outputs": [
    {
     "data": {
      "text/plain": [
       "['eggs', 'milk', 'handwash', 'notbook']"
      ]
     },
     "execution_count": 114,
     "metadata": {},
     "output_type": "execute_result"
    }
   ],
   "source": [
    "h.data"
   ]
  },
  {
   "cell_type": "code",
   "execution_count": 109,
   "metadata": {
    "collapsed": false
   },
   "outputs": [],
   "source": [
    "h.insert(16,'handwash')"
   ]
  },
  {
   "cell_type": "code",
   "execution_count": 112,
   "metadata": {
    "collapsed": false
   },
   "outputs": [],
   "source": [
    "h.insert(37,'notbook')"
   ]
  },
  {
   "cell_type": "code",
   "execution_count": 21,
   "metadata": {
    "collapsed": false
   },
   "outputs": [],
   "source": [
    "def triplets(a, b, c):\n",
    "    a = list(sorted(set(a)))\n",
    "    b = list(sorted(set(b)))\n",
    "    c = list(sorted(set(c)))\n",
    "    \n",
    "    ai = 0\n",
    "    bi = 0\n",
    "    ci = 0\n",
    "    ans=0\n",
    "    while bi < len(b):\n",
    "        x=binary_sr(b[bi],a)\n",
    "        y=binary_sr(b[bi],c)\n",
    "        \n",
    "        ans=ans+(x*y)   \n",
    "        bi=bi+1\n",
    "    return ans"
   ]
  },
  {
   "cell_type": "code",
   "execution_count": 67,
   "metadata": {
    "collapsed": false,
    "scrolled": true
   },
   "outputs": [],
   "source": [
    "def binary_sr(ele,l):\n",
    "    first=0\n",
    "    last=len(l)-1\n",
    "    count=0\n",
    "    while(first<=last):\n",
    "        mid=(last+first)//2\n",
    "        if l[mid]<=ele:\n",
    "            count=mid\n",
    "            first=mid+1\n",
    "        else:\n",
    "            last=mid-1\n",
    "            \n",
    "    if ele<l[0]:\n",
    "        return 0\n",
    "    if ele==l[0]:\n",
    "        return 1\n",
    "    return count+1\n",
    "        \n",
    "                    \n",
    "                \n",
    "                \n",
    "\n",
    "            \n",
    "    \n",
    "    "
   ]
  },
  {
   "cell_type": "code",
   "execution_count": 68,
   "metadata": {
    "collapsed": false
   },
   "outputs": [
    {
     "data": {
      "text/plain": [
       "4"
      ]
     },
     "execution_count": 68,
     "metadata": {},
     "output_type": "execute_result"
    }
   ],
   "source": [
    "triplets([3,5,7],[3,6],[4,6,9])"
   ]
  },
  {
   "cell_type": "code",
   "execution_count": null,
   "metadata": {
    "collapsed": false,
    "scrolled": true
   },
   "outputs": [],
   "source": []
  },
  {
   "cell_type": "code",
   "execution_count": 69,
   "metadata": {
    "collapsed": false
   },
   "outputs": [
    {
     "data": {
      "text/plain": [
       "2"
      ]
     },
     "execution_count": 69,
     "metadata": {},
     "output_type": "execute_result"
    }
   ],
   "source": [
    "binary_sr(6,[4,6,9])"
   ]
  },
  {
   "cell_type": "code",
   "execution_count": 71,
   "metadata": {
    "collapsed": false
   },
   "outputs": [
    {
     "data": {
      "text/plain": [
       "3"
      ]
     },
     "execution_count": 71,
     "metadata": {},
     "output_type": "execute_result"
    }
   ],
   "source": [
    "#pairs:\n",
    "c=0\n",
    "key=1\n",
    "l=[1,2,3,4]\n",
    "for i in l:\n",
    "    if i+key in l:\n",
    "        c=c+1\n",
    "c"
   ]
  },
  {
   "cell_type": "code",
   "execution_count": 72,
   "metadata": {
    "collapsed": false
   },
   "outputs": [
    {
     "data": {
      "text/plain": [
       "[1, 2, 4]"
      ]
     },
     "execution_count": 72,
     "metadata": {},
     "output_type": "execute_result"
    }
   ],
   "source": [
    "sorted([2,4,1])"
   ]
  },
  {
   "cell_type": "code",
   "execution_count": 73,
   "metadata": {
    "collapsed": false
   },
   "outputs": [
    {
     "data": {
      "text/plain": [
       "{1, 3, 4}"
      ]
     },
     "execution_count": 73,
     "metadata": {},
     "output_type": "execute_result"
    }
   ],
   "source": [
    "set([1,3,4,4])"
   ]
  },
  {
   "cell_type": "code",
   "execution_count": null,
   "metadata": {
    "collapsed": true
   },
   "outputs": [],
   "source": [
    "x=[1,3,4,5,6,7,8,10]\n",
    "ele=6\n",
    "l=0\n",
    "h=len(l)-1\n",
    "while True:\n",
    "  \n",
    "    mid=int((l+h)/2)\n",
    "    if l==h:\n",
    "        break\n",
    "    if x[mid]==ele:\n",
    "        print(mid)\n",
    "        break\n",
    "    elif x[mid]>ele:\n",
    "        l=mid+1\n",
    "    else:\n",
    "        h=mid-1\n",
    "        "
   ]
  },
  {
   "cell_type": "code",
   "execution_count": null,
   "metadata": {
    "collapsed": true
   },
   "outputs": [],
   "source": [
    "mid"
   ]
  },
  {
   "cell_type": "code",
   "execution_count": null,
   "metadata": {
    "collapsed": true
   },
   "outputs": [],
   "source": []
  }
 ],
 "metadata": {
  "anaconda-cloud": {},
  "kernelspec": {
   "display_name": "Python [conda env:New folder]",
   "language": "python",
   "name": "conda-env-New folder-py"
  },
  "language_info": {
   "codemirror_mode": {
    "name": "ipython",
    "version": 3
   },
   "file_extension": ".py",
   "mimetype": "text/x-python",
   "name": "python",
   "nbconvert_exporter": "python",
   "pygments_lexer": "ipython3",
   "version": "3.5.6"
  }
 },
 "nbformat": 4,
 "nbformat_minor": 1
}
