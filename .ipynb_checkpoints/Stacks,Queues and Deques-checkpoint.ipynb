{
 "cells": [
  {
   "cell_type": "code",
   "execution_count": 1,
   "metadata": {
    "collapsed": true
   },
   "outputs": [],
   "source": [
    "#Stack Implementation"
   ]
  },
  {
   "cell_type": "code",
   "execution_count": 2,
   "metadata": {
    "collapsed": true
   },
   "outputs": [],
   "source": [
    "class Stack():\n",
    "    def __init__(self):\n",
    "        self.st=[]\n",
    "    def isEmpty(self):\n",
    "        return self.st==[]\n",
    "    def push(self,a):\n",
    "        self.st.append(a)\n",
    "    def pop(self):\n",
    "        self.st.pop()\n",
    "    def size1(self):\n",
    "        return len(self.st)\n",
    "    def print1(self):\n",
    "        return self.st"
   ]
  },
  {
   "cell_type": "code",
   "execution_count": 3,
   "metadata": {
    "collapsed": true
   },
   "outputs": [],
   "source": [
    "st=Stack()"
   ]
  },
  {
   "cell_type": "code",
   "execution_count": 4,
   "metadata": {
    "collapsed": true
   },
   "outputs": [],
   "source": [
    "st.push(2)"
   ]
  },
  {
   "cell_type": "code",
   "execution_count": 5,
   "metadata": {
    "collapsed": false
   },
   "outputs": [
    {
     "data": {
      "text/plain": [
       "False"
      ]
     },
     "execution_count": 5,
     "metadata": {},
     "output_type": "execute_result"
    }
   ],
   "source": [
    "st.isEmpty()"
   ]
  },
  {
   "cell_type": "code",
   "execution_count": 6,
   "metadata": {
    "collapsed": true
   },
   "outputs": [],
   "source": [
    "st.pop()"
   ]
  },
  {
   "cell_type": "code",
   "execution_count": 7,
   "metadata": {
    "collapsed": false
   },
   "outputs": [
    {
     "data": {
      "text/plain": [
       "True"
      ]
     },
     "execution_count": 7,
     "metadata": {},
     "output_type": "execute_result"
    }
   ],
   "source": [
    "st.isEmpty()"
   ]
  },
  {
   "cell_type": "code",
   "execution_count": 8,
   "metadata": {
    "collapsed": false
   },
   "outputs": [
    {
     "data": {
      "text/plain": [
       "0"
      ]
     },
     "execution_count": 8,
     "metadata": {},
     "output_type": "execute_result"
    }
   ],
   "source": [
    "st.size1()"
   ]
  },
  {
   "cell_type": "code",
   "execution_count": 9,
   "metadata": {
    "collapsed": true
   },
   "outputs": [],
   "source": [
    "st.push(1)"
   ]
  },
  {
   "cell_type": "code",
   "execution_count": 10,
   "metadata": {
    "collapsed": false
   },
   "outputs": [
    {
     "data": {
      "text/plain": [
       "[1]"
      ]
     },
     "execution_count": 10,
     "metadata": {},
     "output_type": "execute_result"
    }
   ],
   "source": [
    "st.print1()"
   ]
  },
  {
   "cell_type": "code",
   "execution_count": 11,
   "metadata": {
    "collapsed": true
   },
   "outputs": [],
   "source": [
    "st.pop()"
   ]
  },
  {
   "cell_type": "code",
   "execution_count": 12,
   "metadata": {
    "collapsed": false
   },
   "outputs": [
    {
     "data": {
      "text/plain": [
       "[]"
      ]
     },
     "execution_count": 12,
     "metadata": {},
     "output_type": "execute_result"
    }
   ],
   "source": [
    "st.print1()"
   ]
  },
  {
   "cell_type": "code",
   "execution_count": 13,
   "metadata": {
    "collapsed": false
   },
   "outputs": [
    {
     "data": {
      "text/plain": [
       "[0, 1, 2, 3]"
      ]
     },
     "execution_count": 13,
     "metadata": {},
     "output_type": "execute_result"
    }
   ],
   "source": [
    "for i in range(4):\n",
    "    st.push(i)\n",
    "st.print1()"
   ]
  },
  {
   "cell_type": "code",
   "execution_count": 14,
   "metadata": {
    "collapsed": true
   },
   "outputs": [],
   "source": [
    "#QUEUE IMPLEMENTATION: FIFO:"
   ]
  },
  {
   "cell_type": "code",
   "execution_count": 15,
   "metadata": {
    "collapsed": false
   },
   "outputs": [],
   "source": [
    "class Queue():\n",
    "    def __init__(self):\n",
    "        self.q=[]\n",
    "    def Enqueue(self,item):\n",
    "        self.q1=[item]\n",
    "        self.q=self.q+self.q1\n",
    "    def Dequeue(self):\n",
    "        self.q.pop()\n",
    "    def Print(self):\n",
    "        print(self.q)\n",
    "    def size(self):\n",
    "        print(len(self.q))"
   ]
  },
  {
   "cell_type": "code",
   "execution_count": 16,
   "metadata": {
    "collapsed": false
   },
   "outputs": [
    {
     "name": "stdout",
     "output_type": "stream",
     "text": [
      "[]\n"
     ]
    }
   ],
   "source": [
    "q=Queue()\n",
    "q.Print()\n"
   ]
  },
  {
   "cell_type": "code",
   "execution_count": 17,
   "metadata": {
    "collapsed": false
   },
   "outputs": [
    {
     "name": "stdout",
     "output_type": "stream",
     "text": [
      "[1]\n"
     ]
    }
   ],
   "source": [
    "q.Enqueue(1)\n",
    "q.Print()"
   ]
  },
  {
   "cell_type": "code",
   "execution_count": 18,
   "metadata": {
    "collapsed": false
   },
   "outputs": [
    {
     "name": "stdout",
     "output_type": "stream",
     "text": [
      "[1, 9]\n"
     ]
    }
   ],
   "source": [
    "q.Enqueue(9)\n",
    "q.Print()"
   ]
  },
  {
   "cell_type": "code",
   "execution_count": 19,
   "metadata": {
    "collapsed": false
   },
   "outputs": [
    {
     "name": "stdout",
     "output_type": "stream",
     "text": [
      "[1, 9, 4]\n"
     ]
    }
   ],
   "source": [
    "q.Enqueue(4)\n",
    "q.Print()"
   ]
  },
  {
   "cell_type": "code",
   "execution_count": 20,
   "metadata": {
    "collapsed": false
   },
   "outputs": [
    {
     "name": "stdout",
     "output_type": "stream",
     "text": [
      "[1, 9, 4, [1, 2]]\n"
     ]
    }
   ],
   "source": [
    "q.Enqueue([1,2])\n",
    "q.Print()"
   ]
  },
  {
   "cell_type": "code",
   "execution_count": 21,
   "metadata": {
    "collapsed": true
   },
   "outputs": [],
   "source": [
    "q.Dequeue()"
   ]
  },
  {
   "cell_type": "code",
   "execution_count": 22,
   "metadata": {
    "collapsed": false
   },
   "outputs": [
    {
     "name": "stdout",
     "output_type": "stream",
     "text": [
      "[1, 9, 4]\n"
     ]
    }
   ],
   "source": [
    "\n",
    "q.Print()"
   ]
  },
  {
   "cell_type": "code",
   "execution_count": 23,
   "metadata": {
    "collapsed": true
   },
   "outputs": [],
   "source": [
    "#Implementation of Deque: Combination of LIFO and FIFO"
   ]
  },
  {
   "cell_type": "code",
   "execution_count": 24,
   "metadata": {
    "collapsed": true
   },
   "outputs": [],
   "source": [
    "class Deque():\n",
    "    def __init__(self):\n",
    "        self.l=[]\n",
    "    def addFront(self,i):\n",
    "        self.l.insert(0,i)\n",
    "    def addRear(self,i):\n",
    "        self.l.insert(len(self.l),i)\n",
    "    def popRear(self):\n",
    "        self.l.pop()\n",
    "    def popFront(self):\n",
    "        self.l.pop(0)\n",
    "    def Print(self):\n",
    "        print('{} size: {}'.format(self.l,len(self.l)))\n",
    "        "
   ]
  },
  {
   "cell_type": "code",
   "execution_count": 25,
   "metadata": {
    "collapsed": false
   },
   "outputs": [
    {
     "name": "stdout",
     "output_type": "stream",
     "text": [
      "[2] size: 1\n"
     ]
    }
   ],
   "source": [
    "d=Deque()\n",
    "d.addFront(2)\n",
    "d.Print()"
   ]
  },
  {
   "cell_type": "code",
   "execution_count": 26,
   "metadata": {
    "collapsed": false
   },
   "outputs": [
    {
     "name": "stdout",
     "output_type": "stream",
     "text": [
      "[4, 2] size: 2\n"
     ]
    }
   ],
   "source": [
    "d.addFront(4)\n",
    "d.Print()"
   ]
  },
  {
   "cell_type": "code",
   "execution_count": 27,
   "metadata": {
    "collapsed": false
   },
   "outputs": [
    {
     "name": "stdout",
     "output_type": "stream",
     "text": [
      "[4, 2, 3] size: 3\n"
     ]
    }
   ],
   "source": [
    "d.addRear(3)\n",
    "d.Print()"
   ]
  },
  {
   "cell_type": "code",
   "execution_count": 28,
   "metadata": {
    "collapsed": false
   },
   "outputs": [
    {
     "name": "stdout",
     "output_type": "stream",
     "text": [
      "[5, 4, 2, 3] size: 4\n"
     ]
    }
   ],
   "source": [
    "d.addFront(5)\n",
    "d.Print()"
   ]
  },
  {
   "cell_type": "code",
   "execution_count": 29,
   "metadata": {
    "collapsed": false
   },
   "outputs": [
    {
     "name": "stdout",
     "output_type": "stream",
     "text": [
      "[5, 4, 2, 3, 5] size: 5\n"
     ]
    }
   ],
   "source": [
    "d.addRear(5)\n",
    "d.Print()"
   ]
  },
  {
   "cell_type": "code",
   "execution_count": 30,
   "metadata": {
    "collapsed": false
   },
   "outputs": [
    {
     "name": "stdout",
     "output_type": "stream",
     "text": [
      "[4, 2, 3, 5] size: 4\n"
     ]
    }
   ],
   "source": [
    "d.popFront()\n",
    "d.Print()"
   ]
  },
  {
   "cell_type": "code",
   "execution_count": 31,
   "metadata": {
    "collapsed": false
   },
   "outputs": [
    {
     "name": "stdout",
     "output_type": "stream",
     "text": [
      "[4, 2, 3] size: 3\n"
     ]
    }
   ],
   "source": [
    "d.popRear()\n",
    "d.Print()"
   ]
  },
  {
   "cell_type": "code",
   "execution_count": 32,
   "metadata": {
    "collapsed": false
   },
   "outputs": [
    {
     "data": {
      "text/plain": [
       "[1, 2, 3]"
      ]
     },
     "execution_count": 32,
     "metadata": {},
     "output_type": "execute_result"
    }
   ],
   "source": [
    "q1=[1,2]\n",
    "q2=[3]\n",
    "q2=q1+q2\n",
    "q2"
   ]
  },
  {
   "cell_type": "code",
   "execution_count": 33,
   "metadata": {
    "collapsed": false
   },
   "outputs": [],
   "source": [
    "l=['{','}']\n"
   ]
  },
  {
   "cell_type": "code",
   "execution_count": 58,
   "metadata": {
    "collapsed": false
   },
   "outputs": [],
   "source": [
    "#Balanced Parathesis Problem\n",
    "def Balancedp(s):\n",
    "    l=[]\n",
    "    for i in s:\n",
    "        l.append(i)\n",
    "    i=0\n",
    "    x=0\n",
    "    op='{[('\n",
    "    c=0\n",
    "    matches = [ ('(',')'), ('[',']'), ('{','}') ]\n",
    "    while i>=0:\n",
    "        if len(l)==0:\n",
    "            return True\n",
    "            break\n",
    "        if i==(len(l)-1):\n",
    "            break\n",
    "        if l[i] not in op:\n",
    "            break\n",
    "        \n",
    "        if (l[i],l[i+1]) in matches:\n",
    "            l.pop(i)\n",
    "            l.pop(i)\n",
    "            i=-1\n",
    "        c=c+1\n",
    "        \n",
    "        \n",
    "        i=i+1\n",
    "    print(c)  \n",
    "    \n",
    "    if len(l)==0:\n",
    "        \n",
    "        return True\n",
    "    \n",
    "    else:\n",
    "        \n",
    "        return False\n",
    "     \n",
    "    \n",
    "\n"
   ]
  },
  {
   "cell_type": "code",
   "execution_count": 59,
   "metadata": {
    "collapsed": false
   },
   "outputs": [
    {
     "data": {
      "text/plain": [
       "True"
      ]
     },
     "execution_count": 59,
     "metadata": {},
     "output_type": "execute_result"
    }
   ],
   "source": [
    "Balancedp('{{}}')\n"
   ]
  },
  {
   "cell_type": "code",
   "execution_count": null,
   "metadata": {
    "collapsed": false
   },
   "outputs": [],
   "source": []
  },
  {
   "cell_type": "code",
   "execution_count": 37,
   "metadata": {
    "collapsed": false
   },
   "outputs": [
    {
     "name": "stdout",
     "output_type": "stream",
     "text": [
      "0\n",
      "1\n",
      "-1\n",
      "0\n",
      "1\n",
      "2\n"
     ]
    }
   ],
   "source": [
    "i=0\n",
    "x=False\n",
    "while i>=0:\n",
    "    if i==2 and x==False:\n",
    "        i=-1\n",
    "        x=True\n",
    "    if i==3:\n",
    "        break\n",
    "        \n",
    "        \n",
    "    \n",
    "    print(i)\n",
    "    i=i+1"
   ]
  },
  {
   "cell_type": "code",
   "execution_count": 63,
   "metadata": {
    "collapsed": false
   },
   "outputs": [
    {
     "data": {
      "text/plain": [
       "True"
      ]
     },
     "execution_count": 63,
     "metadata": {},
     "output_type": "execute_result"
    }
   ],
   "source": [
    "Balancedp('{{[]}}')"
   ]
  },
  {
   "cell_type": "code",
   "execution_count": 79,
   "metadata": {
    "collapsed": false
   },
   "outputs": [],
   "source": [
    "#Using 2 stacks and reversal to form a queue\n",
    "class Queue2stack:\n",
    "    def __init__(self):\n",
    "        self.s1=[]\n",
    "        self.s2=[]\n",
    "    def enqueue(self,x):\n",
    "        self.s1.append(x)\n",
    "        self.s2.insert(0,x)\n",
    "    def dequeue(self):\n",
    "        return self.s2.pop()\n",
    "        "
   ]
  },
  {
   "cell_type": "code",
   "execution_count": 80,
   "metadata": {
    "collapsed": false
   },
   "outputs": [
    {
     "data": {
      "text/plain": [
       "2"
      ]
     },
     "execution_count": 80,
     "metadata": {},
     "output_type": "execute_result"
    }
   ],
   "source": [
    "q=Queue2stack()\n",
    "q.enqueue(2)\n",
    "q.enqueue(3)\n",
    "q.enqueue(4)\n",
    "q.dequeue()"
   ]
  },
  {
   "cell_type": "code",
   "execution_count": 3,
   "metadata": {
    "collapsed": false
   },
   "outputs": [
    {
     "name": "stdout",
     "output_type": "stream",
     "text": [
      "0\n",
      "1\n",
      "-1\n",
      "0\n",
      "1\n"
     ]
    }
   ],
   "source": [
    "i=0\n",
    "x=False\n",
    "while i>=0:\n",
    "    \n",
    "    if i==2 and x==True:\n",
    "        break\n",
    "    if i==2 and x==False:\n",
    "        x=True\n",
    "        i=-1\n",
    "    print(i)\n",
    "    i=i+1\n",
    "    "
   ]
  },
  {
   "cell_type": "code",
   "execution_count": 5,
   "metadata": {
    "collapsed": false
   },
   "outputs": [
    {
     "data": {
      "text/plain": [
       "0"
      ]
     },
     "execution_count": 5,
     "metadata": {},
     "output_type": "execute_result"
    }
   ],
   "source": [
    "t=''\n",
    "len(t)"
   ]
  },
  {
   "cell_type": "code",
   "execution_count": 30,
   "metadata": {
    "collapsed": true
   },
   "outputs": [],
   "source": [
    "def isBalanced(s):\n",
    "    \n",
    "    \n",
    "    l=[]\n",
    "    for i in s:\n",
    "        l.append(i)\n",
    "    i=0\n",
    "    openings='{[('\n",
    "    x=False\n",
    "    matches = [ ('(',')'), ('[',']'), ('{','}') ]\n",
    "    if len(l)%2==0:\n",
    "        while i>=0:\n",
    "            if i==(len(l)-1):\n",
    "                break\n",
    "            if l[i] in openings:\n",
    "                x=True\n",
    "            if x==False:\n",
    "                break\n",
    "            if len(l)==0:\n",
    "                break\n",
    "            \n",
    "            if (l[i],l[i+1]) in matches:\n",
    "                l.pop(i)\n",
    "                l.pop(i)\n",
    "                i=-1\n",
    "                x=False\n",
    "            \n",
    "            i=i+1\n",
    "        if len(l)==0:\n",
    "            return 'YES'\n",
    "        else:\n",
    "            return 'NO'\n",
    "    else:\n",
    "        return 'NO'\n",
    "        "
   ]
  },
  {
   "cell_type": "code",
   "execution_count": 31,
   "metadata": {
    "collapsed": false
   },
   "outputs": [
    {
     "ename": "IndexError",
     "evalue": "list index out of range",
     "output_type": "error",
     "traceback": [
      "\u001b[0;31m---------------------------------------------------------------------------\u001b[0m",
      "\u001b[0;31mIndexError\u001b[0m                                Traceback (most recent call last)",
      "\u001b[0;32m<ipython-input-31-80bb63367b8b>\u001b[0m in \u001b[0;36m<module>\u001b[0;34m()\u001b[0m\n\u001b[0;32m----> 1\u001b[0;31m \u001b[0misBalanced\u001b[0m\u001b[1;33m(\u001b[0m\u001b[1;34m'[][][]'\u001b[0m\u001b[1;33m)\u001b[0m\u001b[1;33m\u001b[0m\u001b[0m\n\u001b[0m",
      "\u001b[0;32m<ipython-input-30-a886995e2cec>\u001b[0m in \u001b[0;36misBalanced\u001b[0;34m(s)\u001b[0m\n\u001b[1;32m     13\u001b[0m             \u001b[1;32mif\u001b[0m \u001b[0mi\u001b[0m\u001b[1;33m==\u001b[0m\u001b[1;33m(\u001b[0m\u001b[0mlen\u001b[0m\u001b[1;33m(\u001b[0m\u001b[0ml\u001b[0m\u001b[1;33m)\u001b[0m\u001b[1;33m-\u001b[0m\u001b[1;36m1\u001b[0m\u001b[1;33m)\u001b[0m\u001b[1;33m:\u001b[0m\u001b[1;33m\u001b[0m\u001b[0m\n\u001b[1;32m     14\u001b[0m                 \u001b[1;32mbreak\u001b[0m\u001b[1;33m\u001b[0m\u001b[0m\n\u001b[0;32m---> 15\u001b[0;31m             \u001b[1;32mif\u001b[0m \u001b[0ml\u001b[0m\u001b[1;33m[\u001b[0m\u001b[0mi\u001b[0m\u001b[1;33m]\u001b[0m \u001b[1;32min\u001b[0m \u001b[0mopenings\u001b[0m\u001b[1;33m:\u001b[0m\u001b[1;33m\u001b[0m\u001b[0m\n\u001b[0m\u001b[1;32m     16\u001b[0m                 \u001b[0mx\u001b[0m\u001b[1;33m=\u001b[0m\u001b[1;32mTrue\u001b[0m\u001b[1;33m\u001b[0m\u001b[0m\n\u001b[1;32m     17\u001b[0m             \u001b[1;32mif\u001b[0m \u001b[0mx\u001b[0m\u001b[1;33m==\u001b[0m\u001b[1;32mFalse\u001b[0m\u001b[1;33m:\u001b[0m\u001b[1;33m\u001b[0m\u001b[0m\n",
      "\u001b[0;31mIndexError\u001b[0m: list index out of range"
     ]
    }
   ],
   "source": [
    "isBalanced('[][][]')"
   ]
  },
  {
   "cell_type": "code",
   "execution_count": 68,
   "metadata": {
    "collapsed": false
   },
   "outputs": [],
   "source": [
    "def Txteditor(a):\n",
    "    x=[]\n",
    "    y=[]\n",
    "    l=[]\n",
    "    d=[]\n",
    "    e=[]\n",
    "    for i in a:\n",
    "        if int(i[0])==1:\n",
    "            d.append(1)\n",
    "            for p in i[1]:\n",
    "                x.append(p)\n",
    "\n",
    "            l.append(len(i[1]))\n",
    "        if int(i[0])==2:\n",
    "            d.append(2)\n",
    "            e.append(int(i[1]))\n",
    "            for p in range(int(i[1])):\n",
    "                y.append(x.pop())\n",
    "\n",
    "        if int(i[0])==3:\n",
    "            print(x[int(i[1])-1])\n",
    "        if int(i[0])==4:\n",
    "            c=d.pop()\n",
    "            if c==1:\n",
    "                \n",
    "                for i in range(0,l.pop()):\n",
    "                    x.pop()\n",
    "\n",
    "            if c== 2:\n",
    "                \n",
    "                for i in range(0,e.pop()):\n",
    "                    x.append(y[::-1].pop())        \n",
    "\n",
    "\n",
    "                \n",
    "    "
   ]
  },
  {
   "cell_type": "code",
   "execution_count": 69,
   "metadata": {
    "collapsed": false
   },
   "outputs": [
    {
     "name": "stdout",
     "output_type": "stream",
     "text": [
      "c\n",
      "y\n",
      "c\n"
     ]
    }
   ],
   "source": [
    "Txteditor([[1,'abc'],[3,3],[2,3],[1,'xy'],[3,2],[4],[4],[3,1]])"
   ]
  },
  {
   "cell_type": "code",
   "execution_count": 40,
   "metadata": {
    "collapsed": false,
    "scrolled": true
   },
   "outputs": [
    {
     "data": {
      "text/plain": [
       "['1', 'abc']"
      ]
     },
     "execution_count": 40,
     "metadata": {},
     "output_type": "execute_result"
    }
   ],
   "source": [
    "x=[['1,abc'], ['3,1'], ['1,xy'], ['3,4']]\n",
    "x[0][0].split(',')\n"
   ]
  },
  {
   "cell_type": "code",
   "execution_count": 43,
   "metadata": {
    "collapsed": false
   },
   "outputs": [],
   "source": [
    "y=[]\n",
    "for i in x:\n",
    "    y.append(i[0].split(','))\n"
   ]
  },
  {
   "cell_type": "code",
   "execution_count": 9,
   "metadata": {
    "collapsed": false
   },
   "outputs": [],
   "source": [
    "l=[2,3,4]\n"
   ]
  },
  {
   "cell_type": "code",
   "execution_count": 28,
   "metadata": {
    "collapsed": true
   },
   "outputs": [],
   "source": [
    "p=[]\n",
    "l=[6,7,13,4,5]\n",
    "\n",
    "for i in range(len(l)):\n",
    "    x=i\n",
    "    z=0\n",
    "    if i!=(len(l)-1):\n",
    "        for j in range(len(l)):\n",
    "            if x<i+1:\n",
    "                z=z+1\n",
    "    if i!=0:\n",
    "        if x<i-1:\n",
    "            z=z+1\n",
    "    p.append(x*(z+1))\n",
    "    "
   ]
  },
  {
   "cell_type": "code",
   "execution_count": 29,
   "metadata": {
    "collapsed": false
   },
   "outputs": [],
   "source": [
    "l.sort()"
   ]
  },
  {
   "cell_type": "code",
   "execution_count": 30,
   "metadata": {
    "collapsed": false
   },
   "outputs": [
    {
     "data": {
      "text/plain": [
       "[4, 5, 6, 7, 13]"
      ]
     },
     "execution_count": 30,
     "metadata": {},
     "output_type": "execute_result"
    }
   ],
   "source": [
    "\n",
    "    \n",
    "    "
   ]
  },
  {
   "cell_type": "code",
   "execution_count": 52,
   "metadata": {
    "collapsed": false
   },
   "outputs": [],
   "source": [
    "l=[8979,4570,6436,5083,7780,3269,5400,7579,2324,2116]\n",
    "p=[]\n",
    "l.sort()\n",
    "for i in range(len(l)):\n",
    "    x=l[i]\n",
    "    p.append(x*(len(l)-i))"
   ]
  },
  {
   "cell_type": "code",
   "execution_count": 53,
   "metadata": {
    "collapsed": false
   },
   "outputs": [
    {
     "data": {
      "text/plain": [
       "[21160, 20916, 26152, 31990, 30498, 27000, 25744, 22737, 15560, 8979]"
      ]
     },
     "execution_count": 53,
     "metadata": {},
     "output_type": "execute_result"
    }
   ],
   "source": [
    "p"
   ]
  },
  {
   "cell_type": "code",
   "execution_count": 57,
   "metadata": {
    "collapsed": false
   },
   "outputs": [
    {
     "name": "stdout",
     "output_type": "stream",
     "text": [
      "0\n",
      "1\n",
      "2\n",
      "3\n",
      "4\n"
     ]
    }
   ],
   "source": [
    "for i in range(len(l)):\n",
    "    x=i\n",
    "    z=0\n",
    "    for j in range(i+1,len(l)):\n",
    "        if x<=l[j]:\n",
    "            z=z+1\n",
    "        if x>l[j]:\n",
    "            continue\n",
    "    for k in range(i,len(l)+1):\n",
    "        x<=l[j]:\n",
    "            z=z+1\n",
    "        \n",
    "            "
   ]
  },
  {
   "cell_type": "code",
   "execution_count": 72,
   "metadata": {
    "collapsed": false
   },
   "outputs": [
    {
     "name": "stdout",
     "output_type": "stream",
     "text": [
      "2116\n",
      "2324\n",
      "7579\n",
      "5400\n",
      "3269\n",
      "7780\n",
      "5083\n",
      "6436\n",
      "4570\n",
      "8979\n",
      "2116\n"
     ]
    }
   ],
   "source": [
    "l=[8979,4570,6436,5083,7780,3269,5400,7579,2324,2116]\n",
    "for i in range(0,11):\n",
    "    print(l[len(l)-1-i])"
   ]
  },
  {
   "cell_type": "code",
   "execution_count": 75,
   "metadata": {
    "collapsed": false
   },
   "outputs": [
    {
     "data": {
      "text/plain": [
       "True"
      ]
     },
     "execution_count": 75,
     "metadata": {},
     "output_type": "execute_result"
    }
   ],
   "source": [
    "-5<-3"
   ]
  },
  {
   "cell_type": "code",
   "execution_count": 190,
   "metadata": {
    "collapsed": false
   },
   "outputs": [],
   "source": [
    "p=[]\n",
    "y=-1\n",
    "l=[5,4,3]\n",
    "count=0\n",
    "count2=0\n",
    "q=[]\n",
    "r=[]\n",
    "for i in range(0,len(l)):\n",
    "    x=l[i]\n",
    "    p=[]\n",
    "    q=[]\n",
    "    count=0\n",
    "    count2=0\n",
    "    \n",
    "    for j in range(i+1,len(l)):\n",
    "        if x-l[j]>0:\n",
    "            count=count+1\n",
    "            break\n",
    "        if x-l[j]<=0 and count==0:\n",
    "            p.append(l[j])\n",
    "    for k in range(1,i+1):\n",
    "        \n",
    "        \n",
    "        \n",
    "        if x-l[i-k]>0:\n",
    "            count2=count2+1\n",
    "            break\n",
    "            \n",
    "        if x-l[i-k]<0 and count2==0:\n",
    "            q.append(l[i-k])\n",
    "            \n",
    "        \n",
    "    r.append(x*(len(p)+1+len(q)))\n",
    "\n",
    "        "
   ]
  },
  {
   "cell_type": "code",
   "execution_count": 191,
   "metadata": {
    "collapsed": false
   },
   "outputs": [
    {
     "data": {
      "text/plain": [
       "9"
      ]
     },
     "execution_count": 191,
     "metadata": {},
     "output_type": "execute_result"
    }
   ],
   "source": [
    "max(r)"
   ]
  },
  {
   "cell_type": "code",
   "execution_count": 192,
   "metadata": {
    "collapsed": false
   },
   "outputs": [
    {
     "data": {
      "text/plain": [
       "[5, 8, 9]"
      ]
     },
     "execution_count": 192,
     "metadata": {},
     "output_type": "execute_result"
    }
   ],
   "source": [
    "def largestRectangle(h):\n",
    "    p=[]\n",
    "    count=0\n",
    "    count2=0\n",
    "    q=[]\n",
    "    r=[]\n",
    "    for i in range(0,len(h)):\n",
    "        x=h[i]\n",
    "        p=[]\n",
    "        q=[]\n",
    "        count=0\n",
    "        count2=0\n",
    "        if i!=len(h)-1:\n",
    "            for j in range(i+1,len(h)):\n",
    "                if x-h[j]>0:\n",
    "                    count=count+1\n",
    "                    break\n",
    "                if x-h[j]<=0 and count==0:\n",
    "                    p.append(h[j])\n",
    "        if i!=0:\n",
    "            for k in range(1,i+1):\n",
    "                if x-h[i-k]>0:\n",
    "                    count2=count2+1\n",
    "                    break\n",
    "                if x-h[i-k]<0 and count2==0:\n",
    "                    q.append(h[i-k])\n",
    "                \n",
    "        r.append(x*(len(p)+1+len(q)))\n",
    "    return max(r)\n"
   ]
  },
  {
   "cell_type": "code",
   "execution_count": 32,
   "metadata": {
    "collapsed": false
   },
   "outputs": [],
   "source": [
    "i=0\n",
    "c=0\n",
    "l=[6,5,8,4,7,10,9]\n",
    "while True:\n",
    "    if i==(len(l)-1):\n",
    "        break\n",
    "    if l[i]<l[i+1]:\n",
    "        l.pop(i+1)\n",
    "        i=-1\n",
    "        c=c+1\n",
    "    i=i+1"
   ]
  },
  {
   "cell_type": "code",
   "execution_count": null,
   "metadata": {
    "collapsed": false
   },
   "outputs": [],
   "source": [
    "p=[6,5,8,4,7,10,9]\n",
    "x=0\n",
    "c=[]\n",
    "while True:\n",
    "    c=[]\n",
    "    for i in range(0,len(p)):\n",
    "        if i==len(p)-1:\n",
    "            break\n",
    "        else:\n",
    "            if p[i]<p[i+1]:\n",
    "                c.append(i+1)\n",
    "    if len(c)==0:\n",
    "        break\n",
    "    while len(c)!=0:\n",
    "        p.pop(c[-1])\n",
    "        c.pop()\n",
    "    x=x+1"
   ]
  },
  {
   "cell_type": "code",
   "execution_count": 48,
   "metadata": {
    "collapsed": false
   },
   "outputs": [],
   "source": [
    "p=[6,5,8,4,7,10,9]\n",
    "\n",
    "z=0\n",
    "while all(earlier >= later for earlier, later in zip(p, p[1:]))==False:\n",
    "    c=False\n",
    "    last=p[0]\n",
    "    st=[p[0]]\n",
    "    for i in range(1,len(p)):\n",
    "        if i!=(len(p)):\n",
    "            x=p[i]\n",
    "            if x<=last:\n",
    "                st.append(x)\n",
    "                last=x\n",
    "\n",
    "            else:\n",
    "                last=x\n",
    "               \n",
    "\n",
    "    \n",
    "    p=st\n",
    "    z=z+1\n"
   ]
  },
  {
   "cell_type": "code",
   "execution_count": 50,
   "metadata": {
    "collapsed": false
   },
   "outputs": [
    {
     "data": {
      "text/plain": [
       "2"
      ]
     },
     "execution_count": 50,
     "metadata": {},
     "output_type": "execute_result"
    }
   ],
   "source": [
    "z"
   ]
  },
  {
   "cell_type": "code",
   "execution_count": 40,
   "metadata": {
    "collapsed": false
   },
   "outputs": [],
   "source": [
    "def ordertest(A):\n",
    "    return all(A[i] >= A[i+1] for i in range(len(A)-1))"
   ]
  },
  {
   "cell_type": "code",
   "execution_count": 41,
   "metadata": {
    "collapsed": false
   },
   "outputs": [
    {
     "data": {
      "text/plain": [
       "True"
      ]
     },
     "execution_count": 41,
     "metadata": {},
     "output_type": "execute_result"
    }
   ],
   "source": [
    "ordertest(p)"
   ]
  },
  {
   "cell_type": "code",
   "execution_count": 46,
   "metadata": {
    "collapsed": false
   },
   "outputs": [],
   "source": [
    "p=[1,2,3]"
   ]
  },
  {
   "cell_type": "code",
   "execution_count": 47,
   "metadata": {
    "collapsed": false
   },
   "outputs": [
    {
     "data": {
      "text/plain": [
       "False"
      ]
     },
     "execution_count": 47,
     "metadata": {},
     "output_type": "execute_result"
    }
   ],
   "source": [
    "all(earlier >= later for earlier, later in zip(p, p[1:]))"
   ]
  },
  {
   "cell_type": "code",
   "execution_count": 1,
   "metadata": {
    "collapsed": false
   },
   "outputs": [],
   "source": [
    "class Stack():\n",
    "    def __init__(self,st):\n",
    "        self.st=st\n",
    "    def isEmpty(self):\n",
    "        return self.st==[]\n",
    "    def push(self,a):\n",
    "        self.st.append(a)\n",
    "    def pop(self):\n",
    "        self.st.pop()\n",
    "    def size1(self):\n",
    "        return len(self.st)\n",
    "    def print1(self):\n",
    "        return self.st"
   ]
  },
  {
   "cell_type": "code",
   "execution_count": 2,
   "metadata": {
    "collapsed": true
   },
   "outputs": [],
   "source": [
    "x=Stack([1,2,4])"
   ]
  },
  {
   "cell_type": "code",
   "execution_count": 4,
   "metadata": {
    "collapsed": false
   },
   "outputs": [
    {
     "data": {
      "text/plain": [
       "False"
      ]
     },
     "execution_count": 4,
     "metadata": {},
     "output_type": "execute_result"
    }
   ],
   "source": [
    "x.isEmpty()"
   ]
  },
  {
   "cell_type": "code",
   "execution_count": 7,
   "metadata": {
    "collapsed": false
   },
   "outputs": [
    {
     "data": {
      "text/plain": [
       "[]"
      ]
     },
     "execution_count": 7,
     "metadata": {},
     "output_type": "execute_result"
    }
   ],
   "source": [
    "x.pop()\n",
    "x.st"
   ]
  },
  {
   "cell_type": "code",
   "execution_count": 9,
   "metadata": {
    "collapsed": false
   },
   "outputs": [
    {
     "data": {
      "text/plain": [
       "True"
      ]
     },
     "execution_count": 9,
     "metadata": {},
     "output_type": "execute_result"
    }
   ],
   "source": [
    "x.isEmpty()"
   ]
  },
  {
   "cell_type": "code",
   "execution_count": 11,
   "metadata": {
    "collapsed": true
   },
   "outputs": [],
   "source": [
    "def isBalanced(s):\n",
    "    restart=True\n",
    "    while restart:\n",
    "        if '{}' in s:\n",
    "            s=s.replace('{}','')\n",
    "        elif '()' in s:\n",
    "            s=s.replace('()','')\n",
    "        elif '[]' in s:\n",
    "            s=s.replace('[]','')\n",
    "        else:\n",
    "            restart=False\n",
    "    return 'YES' if len(s)==0 else 'NO',s\n"
   ]
  },
  {
   "cell_type": "code",
   "execution_count": 13,
   "metadata": {
    "collapsed": false
   },
   "outputs": [
    {
     "data": {
      "text/plain": [
       "('NO', '{{{]]}}}')"
      ]
     },
     "execution_count": 13,
     "metadata": {},
     "output_type": "execute_result"
    }
   ],
   "source": [
    "isBalanced('{{{[[]]]]}}}')"
   ]
  },
  {
   "cell_type": "code",
   "execution_count": null,
   "metadata": {
    "collapsed": false
   },
   "outputs": [],
   "source": [
    "mat"
   ]
  },
  {
   "cell_type": "code",
   "execution_count": null,
   "metadata": {
    "collapsed": false
   },
   "outputs": [],
   "source": [
    "s=\"{{{[[]]]]}}}\"\n",
    "matches=[('{','}'),('(',')'),('[',']')]\n",
    "i=0\n",
    "while True:\n",
    "    if i==len(s)-1:\n",
    "        break\n",
    "    if (s[i],s[i+1]) in matches:\n",
    "        s.replace(s[i],'')\n",
    "        s.replace(s[i],'')\n",
    "        i=-1\n",
    "    i=i+1"
   ]
  },
  {
   "cell_type": "code",
   "execution_count": null,
   "metadata": {
    "collapsed": true
   },
   "outputs": [],
   "source": [
    "s=\"{{{[[]]]]}}}\"\n"
   ]
  }
 ],
 "metadata": {
  "anaconda-cloud": {},
  "kernelspec": {
   "display_name": "Python [conda root]",
   "language": "python",
   "name": "conda-root-py"
  },
  "language_info": {
   "codemirror_mode": {
    "name": "ipython",
    "version": 3
   },
   "file_extension": ".py",
   "mimetype": "text/x-python",
   "name": "python",
   "nbconvert_exporter": "python",
   "pygments_lexer": "ipython3",
   "version": "3.5.2"
  }
 },
 "nbformat": 4,
 "nbformat_minor": 1
}
