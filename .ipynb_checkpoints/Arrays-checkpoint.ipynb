{
 "cells": [
  {
   "cell_type": "code",
   "execution_count": 1,
   "metadata": {
    "collapsed": true
   },
   "outputs": [],
   "source": [
    "#Python uses,Two bytes(16 bits) for arrays/lists\n",
    "#When method Such copy,extend,append or slicing is used, We create refrences to \n",
    "#The original one"
   ]
  },
  {
   "cell_type": "code",
   "execution_count": 2,
   "metadata": {
    "collapsed": true
   },
   "outputs": [],
   "source": [
    "#List are dynamic arrays, they adjust their size automatically\n"
   ]
  },
  {
   "cell_type": "code",
   "execution_count": 3,
   "metadata": {
    "collapsed": false
   },
   "outputs": [
    {
     "name": "stdout",
     "output_type": "stream",
     "text": [
      "len:0 size:36\n",
      "len:1 size:52\n",
      "len:2 size:52\n",
      "len:3 size:52\n",
      "len:4 size:52\n",
      "len:5 size:68\n",
      "len:6 size:68\n",
      "len:7 size:68\n",
      "len:8 size:68\n",
      "len:9 size:100\n",
      "len:10 size:100\n",
      "len:11 size:100\n",
      "len:12 size:100\n",
      "len:13 size:100\n",
      "len:14 size:100\n",
      "len:15 size:100\n",
      "len:16 size:100\n",
      "len:17 size:136\n",
      "len:18 size:136\n",
      "len:19 size:136\n",
      "len:20 size:136\n",
      "len:21 size:136\n",
      "len:22 size:136\n",
      "len:23 size:136\n",
      "len:24 size:136\n",
      "len:25 size:136\n",
      "len:26 size:176\n",
      "len:27 size:176\n",
      "len:28 size:176\n",
      "len:29 size:176\n",
      "len:30 size:176\n",
      "len:31 size:176\n",
      "len:32 size:176\n",
      "len:33 size:176\n",
      "len:34 size:176\n",
      "len:35 size:176\n",
      "len:36 size:220\n",
      "len:37 size:220\n",
      "len:38 size:220\n",
      "len:39 size:220\n",
      "len:40 size:220\n",
      "len:41 size:220\n",
      "len:42 size:220\n",
      "len:43 size:220\n",
      "len:44 size:220\n",
      "len:45 size:220\n",
      "len:46 size:220\n",
      "len:47 size:268\n",
      "len:48 size:268\n",
      "len:49 size:268\n"
     ]
    }
   ],
   "source": [
    "import sys\n",
    "l=[]\n",
    "for i in range(0,50):\n",
    "    x=len(l)\n",
    "    y=sys.getsizeof(l)\n",
    "    print(\"len:{} size:{}\".format(x,y))\n",
    "    l.append(i)\n",
    "#During appending in dynamic arrays,extra bytes are allocated for future addn"
   ]
  },
  {
   "cell_type": "code",
   "execution_count": 4,
   "metadata": {
    "collapsed": true
   },
   "outputs": [],
   "source": [
    "#dynamic array Implementation"
   ]
  },
  {
   "cell_type": "code",
   "execution_count": 5,
   "metadata": {
    "collapsed": false
   },
   "outputs": [],
   "source": [
    "import ctypes\n",
    "\n",
    "class DynamicArray():\n",
    "    '''\n",
    "    DYNAMIC ARRAY CLASS (Similar to Python List)\n",
    "    '''\n",
    "    \n",
    "    def __init__(self):\n",
    "        self.n = 0 # Count actual elements (Default is 0)\n",
    "        self.capacity = 1 # Default Capacity\n",
    "        self.A = self.make_array(self.capacity)\n",
    "        \n",
    "    def __len__(self):\n",
    "        \"\"\"\n",
    "        Return number of elements sorted in array\n",
    "        \"\"\"\n",
    "        return self.n\n",
    "    \n",
    "    def __getitem__(self,k):\n",
    "        \"\"\"\n",
    "        Return element at index k\n",
    "        \"\"\"\n",
    "        if not 0 <= k <self.n:\n",
    "            return IndexError('K is out of bounds!') # Check it k index is in bounds of array\n",
    "        \n",
    "        return self.A[k] #Retrieve from array at index k\n",
    "        \n",
    "    def append1(self, ele):\n",
    "        \"\"\"\n",
    "        Add element to end of the array\n",
    "        \"\"\"\n",
    "        if self.n == self.capacity:\n",
    "            self._resize(2*self.capacity) #Double capacity if not enough room\n",
    "        \n",
    "        self.A[self.n] = ele #Set self.n index to element\n",
    "        self.n += 1\n",
    "        \n",
    "    def _resize(self,new_cap):\n",
    "        \"\"\"\n",
    "        Resize internal array to capacity new_cap\n",
    "        \"\"\"\n",
    "        \n",
    "        B = self.make_array(new_cap) # New bigger array\n",
    "        \n",
    "        for k in range(self.n): # Reference all existing values\n",
    "            B[k] = self.A[k]\n",
    "            \n",
    "        self.A = B # Call A the new bigger array\n",
    "        self.capacity = new_cap # Reset the capacity\n",
    "        \n",
    "    def make_array(self,new_cap):\n",
    "        \"\"\"\n",
    "        Returns a new array with new_cap capacity\n",
    "        \"\"\"\n",
    "        return (new_cap * ctypes.py_object)()"
   ]
  },
  {
   "cell_type": "code",
   "execution_count": 6,
   "metadata": {
    "collapsed": false
   },
   "outputs": [
    {
     "name": "stdout",
     "output_type": "stream",
     "text": [
      "ele:None size:1 cap:1\n",
      "ele:None size:2 cap:2\n",
      "ele:None size:3 cap:4\n",
      "ele:None size:4 cap:4\n",
      "ele:None size:5 cap:8\n",
      "ele:None size:6 cap:8\n",
      "ele:None size:7 cap:8\n",
      "ele:None size:8 cap:8\n",
      "ele:None size:9 cap:16\n",
      "ele:None size:10 cap:16\n",
      "ele:None size:11 cap:16\n",
      "ele:None size:12 cap:16\n",
      "ele:None size:13 cap:16\n",
      "ele:None size:14 cap:16\n",
      "ele:None size:15 cap:16\n",
      "ele:None size:16 cap:16\n",
      "ele:None size:17 cap:32\n",
      "ele:None size:18 cap:32\n",
      "ele:None size:19 cap:32\n",
      "ele:None size:20 cap:32\n",
      "ele:None size:21 cap:32\n",
      "ele:None size:22 cap:32\n",
      "ele:None size:23 cap:32\n",
      "ele:None size:24 cap:32\n",
      "ele:None size:25 cap:32\n",
      "ele:None size:26 cap:32\n",
      "ele:None size:27 cap:32\n",
      "ele:None size:28 cap:32\n",
      "ele:None size:29 cap:32\n",
      "ele:None size:30 cap:32\n",
      "ele:None size:31 cap:32\n",
      "ele:None size:32 cap:32\n",
      "ele:None size:33 cap:64\n",
      "ele:None size:34 cap:64\n",
      "ele:None size:35 cap:64\n",
      "ele:None size:36 cap:64\n",
      "ele:None size:37 cap:64\n",
      "ele:None size:38 cap:64\n",
      "ele:None size:39 cap:64\n",
      "ele:None size:40 cap:64\n",
      "ele:None size:41 cap:64\n",
      "ele:None size:42 cap:64\n",
      "ele:None size:43 cap:64\n",
      "ele:None size:44 cap:64\n",
      "ele:None size:45 cap:64\n",
      "ele:None size:46 cap:64\n",
      "ele:None size:47 cap:64\n",
      "ele:None size:48 cap:64\n",
      "ele:None size:49 cap:64\n",
      "ele:None size:50 cap:64\n"
     ]
    }
   ],
   "source": [
    "a=DynamicArray()\n",
    "for i in range(50):\n",
    "    print('ele:{} size:{} cap:{}'.format(a.append1(i),a.n,a.capacity))\n"
   ]
  },
  {
   "cell_type": "code",
   "execution_count": 7,
   "metadata": {
    "collapsed": false
   },
   "outputs": [
    {
     "data": {
      "text/plain": [
       "6"
      ]
     },
     "execution_count": 7,
     "metadata": {},
     "output_type": "execute_result"
    }
   ],
   "source": [
    "#Angram Problem:\n",
    "a='haider'\n",
    "len(a)"
   ]
  },
  {
   "cell_type": "code",
   "execution_count": 8,
   "metadata": {
    "collapsed": false
   },
   "outputs": [],
   "source": [
    "def Ang1(a,b):\n",
    "    a=a.replace(' ','').lower()\n",
    "    b=b.replace(' ','').lower()\n",
    "    if(len(a)==len(b)):\n",
    "        return sorted(a)==sorted(b)\n",
    "    else:  \n",
    "        return False"
   ]
  },
  {
   "cell_type": "code",
   "execution_count": 9,
   "metadata": {
    "collapsed": false
   },
   "outputs": [],
   "source": [
    "def Ang2(a,b):\n",
    "    s1=''\n",
    "    s2=''\n",
    "    count=0;\n",
    "    for i in range(len(a)):\n",
    "        if a[i]!=' ':\n",
    "            s1=s1+a[i]\n",
    "        else:\n",
    "            s1=s1+''\n",
    "    for i in range(len(b)):\n",
    "        if b[i]!=' ':\n",
    "            s2=s2+b[i]\n",
    "        else:\n",
    "            s2=s2+''\n",
    "    if(len(s2)==len(s1)):\n",
    "        for i in range(len(s1)):\n",
    "            if(s1[i]==s2[(len(s2)-1)-i]):\n",
    "                count=count+1\n",
    "        if(count==len(s1)):\n",
    "            return True\n",
    "        else: \n",
    "            return False\n",
    "    else:\n",
    "        return False\n",
    "        \n",
    "        "
   ]
  },
  {
   "cell_type": "code",
   "execution_count": 10,
   "metadata": {
    "collapsed": false
   },
   "outputs": [
    {
     "data": {
      "text/plain": [
       "True"
      ]
     },
     "execution_count": 10,
     "metadata": {},
     "output_type": "execute_result"
    }
   ],
   "source": [
    "Ang2('go  zd','dzo g')"
   ]
  },
  {
   "cell_type": "code",
   "execution_count": 11,
   "metadata": {
    "collapsed": false
   },
   "outputs": [],
   "source": [
    "#Two sum Problem"
   ]
  },
  {
   "cell_type": "code",
   "execution_count": 12,
   "metadata": {
    "collapsed": false
   },
   "outputs": [],
   "source": [
    "def Twosum(l,n):\n",
    "    z=[]\n",
    "    for i in l:\n",
    "        for j in l:\n",
    "            \n",
    "            if(i+j==n):\n",
    "                if((j,i) in z or (i,j) in z):\n",
    "                    break\n",
    "                else:  \n",
    "                    z.append((i,j))\n",
    "                    i=l.index(i)\n",
    "                    j=l.index(j)\n",
    "                    return (i,j)\n",
    "            else:\n",
    "                break\n",
    "        \n",
    "            "
   ]
  },
  {
   "cell_type": "code",
   "execution_count": 13,
   "metadata": {
    "collapsed": false
   },
   "outputs": [
    {
     "data": {
      "text/plain": [
       "(2, 0)"
      ]
     },
     "execution_count": 13,
     "metadata": {},
     "output_type": "execute_result"
    }
   ],
   "source": [
    "Twosum([1,2,3,4],4)\n",
    "\n"
   ]
  },
  {
   "cell_type": "code",
   "execution_count": 14,
   "metadata": {
    "collapsed": true
   },
   "outputs": [],
   "source": [
    "#Finding the missing element"
   ]
  },
  {
   "cell_type": "code",
   "execution_count": 15,
   "metadata": {
    "collapsed": true
   },
   "outputs": [],
   "source": [
    "#1\n",
    "def func1(arr1,arr2):\n",
    "    if sum(arr1)>sum(arr2):\n",
    "        return sum(arr1)-sum(arr2)\n",
    "    else:\n",
    "        return sum(arr2)-sum(arr1)\n",
    "#2\n",
    "def func2(arr1,arr2):\n",
    "    d={}\n",
    "    for i in arr1+arr2:\n",
    "        if(i in d.keys()):\n",
    "            d[i]+=1\n",
    "        else:\n",
    "            d[i]=1\n",
    "    for i,j in d.items():\n",
    "        if(j==1):\n",
    "            print(i)\n",
    "            \n",
    "    \n",
    "    "
   ]
  },
  {
   "cell_type": "code",
   "execution_count": 16,
   "metadata": {
    "collapsed": false
   },
   "outputs": [
    {
     "name": "stdout",
     "output_type": "stream",
     "text": [
      "3\n",
      "4\n"
     ]
    }
   ],
   "source": [
    "func2([1,2,3],[1,2,4,9,9])"
   ]
  },
  {
   "cell_type": "code",
   "execution_count": 17,
   "metadata": {
    "collapsed": false
   },
   "outputs": [],
   "source": [
    "# Largest Continous sum"
   ]
  },
  {
   "cell_type": "code",
   "execution_count": 18,
   "metadata": {
    "collapsed": true
   },
   "outputs": [],
   "source": [
    "def Lsum(arr1):\n",
    "    max1=arr1[0]\n",
    "    sum1=0\n",
    "    for i in arr1:\n",
    "        sum1=sum1+i\n",
    "        if sum1>max1:\n",
    "            max1=sum1\n",
    "    print(max1)\n",
    "            "
   ]
  },
  {
   "cell_type": "code",
   "execution_count": 19,
   "metadata": {
    "collapsed": false
   },
   "outputs": [
    {
     "name": "stdout",
     "output_type": "stream",
     "text": [
      "29\n"
     ]
    }
   ],
   "source": [
    "Lsum([1,2,-1,3,4,10,10,-10,-1])"
   ]
  },
  {
   "cell_type": "code",
   "execution_count": 20,
   "metadata": {
    "collapsed": true
   },
   "outputs": [],
   "source": [
    "#String Reversal"
   ]
  },
  {
   "cell_type": "code",
   "execution_count": 21,
   "metadata": {
    "collapsed": true
   },
   "outputs": [],
   "source": [
    "def Sttr(s1):\n",
    "    s2=''\n",
    "    s1=s1.strip()\n",
    "    for i in range(len(s1)):\n",
    "        \n",
    "        s2=s2+s1[(len(s1)-1)-i]\n",
    "    print(s2)"
   ]
  },
  {
   "cell_type": "code",
   "execution_count": 22,
   "metadata": {
    "collapsed": false
   },
   "outputs": [
    {
     "name": "stdout",
     "output_type": "stream",
     "text": [
      "a s ywu eediaH\n"
     ]
    }
   ],
   "source": [
    "Sttr('Haidee uwy s a')"
   ]
  },
  {
   "cell_type": "code",
   "execution_count": 23,
   "metadata": {
    "collapsed": false
   },
   "outputs": [],
   "source": [
    "#String Compression"
   ]
  },
  {
   "cell_type": "code",
   "execution_count": 24,
   "metadata": {
    "collapsed": false
   },
   "outputs": [],
   "source": [
    "from collections import Counter\n",
    "def Strcmp(s):\n",
    "    s2=''\n",
    "    d=dict(Counter(s))\n",
    "    for i,j in d.items():\n",
    "        s2=s2+i+str(j)\n",
    "    print(s2)\n"
   ]
  },
  {
   "cell_type": "code",
   "execution_count": 25,
   "metadata": {
    "collapsed": false
   },
   "outputs": [
    {
     "name": "stdout",
     "output_type": "stream",
     "text": [
      "A2B1\n"
     ]
    }
   ],
   "source": [
    "Strcmp('AAB')"
   ]
  },
  {
   "cell_type": "code",
   "execution_count": 26,
   "metadata": {
    "collapsed": false
   },
   "outputs": [],
   "source": [
    "a=[1,2,3]\n"
   ]
  },
  {
   "cell_type": "code",
   "execution_count": 27,
   "metadata": {
    "collapsed": false
   },
   "outputs": [],
   "source": [
    "a.remove(a[0])"
   ]
  },
  {
   "cell_type": "code",
   "execution_count": 28,
   "metadata": {
    "collapsed": false
   },
   "outputs": [
    {
     "name": "stdout",
     "output_type": "stream",
     "text": [
      "2\n",
      "2\n",
      "1\n"
     ]
    }
   ],
   "source": [
    "def matchStrings(strings,queries):\n",
    "    l=[]\n",
    "    for i in queries:\n",
    "        count=0\n",
    "        for j in strings:\n",
    "            if i==j:\n",
    "                count=count+1\n",
    "        l.append(count)\n",
    "    for x in l:\n",
    "        print(x)\n",
    "matchStrings(queries=['ab','abc','bc'],strings=['ab','abc','abc','ab','gc','bc'])"
   ]
  },
  {
   "cell_type": "code",
   "execution_count": 30,
   "metadata": {
    "collapsed": false
   },
   "outputs": [
    {
     "data": {
      "text/plain": [
       "6"
      ]
     },
     "execution_count": 30,
     "metadata": {},
     "output_type": "execute_result"
    }
   ],
   "source": [
    "4 ^ 2"
   ]
  },
  {
   "cell_type": "code",
   "execution_count": 31,
   "metadata": {
    "collapsed": false
   },
   "outputs": [
    {
     "data": {
      "text/plain": [
       "3"
      ]
     },
     "execution_count": 31,
     "metadata": {},
     "output_type": "execute_result"
    }
   ],
   "source": [
    "x=[1,2,3]\n",
    "len(x)"
   ]
  },
  {
   "cell_type": "code",
   "execution_count": 35,
   "metadata": {
    "collapsed": false
   },
   "outputs": [
    {
     "name": "stdout",
     "output_type": "stream",
     "text": [
      "1\n",
      "2\n",
      "3\n"
     ]
    }
   ],
   "source": [
    "for i in range(1,len(x)+1):\n",
    "    print(i)"
   ]
  },
  {
   "cell_type": "code",
   "execution_count": 42,
   "metadata": {
    "collapsed": false
   },
   "outputs": [
    {
     "data": {
      "text/plain": [
       "1"
      ]
     },
     "execution_count": 42,
     "metadata": {},
     "output_type": "execute_result"
    }
   ],
   "source": [
    "l=[1,2,3]\n",
    "l.pop(0)"
   ]
  },
  {
   "cell_type": "code",
   "execution_count": 45,
   "metadata": {
    "collapsed": false
   },
   "outputs": [
    {
     "data": {
      "text/plain": [
       "2"
      ]
     },
     "execution_count": 45,
     "metadata": {},
     "output_type": "execute_result"
    }
   ],
   "source": [
    "l.pop(0)"
   ]
  },
  {
   "cell_type": "code",
   "execution_count": 46,
   "metadata": {
    "collapsed": false
   },
   "outputs": [
    {
     "data": {
      "text/plain": [
       "[3]"
      ]
     },
     "execution_count": 46,
     "metadata": {},
     "output_type": "execute_result"
    }
   ],
   "source": [
    "l"
   ]
  },
  {
   "cell_type": "code",
   "execution_count": null,
   "metadata": {
    "collapsed": true
   },
   "outputs": [],
   "source": []
  },
  {
   "cell_type": "code",
   "execution_count": null,
   "metadata": {
    "collapsed": true
   },
   "outputs": [],
   "source": []
  },
  {
   "cell_type": "code",
   "execution_count": null,
   "metadata": {
    "collapsed": true
   },
   "outputs": [],
   "source": []
  },
  {
   "cell_type": "code",
   "execution_count": null,
   "metadata": {
    "collapsed": true
   },
   "outputs": [],
   "source": []
  },
  {
   "cell_type": "code",
   "execution_count": null,
   "metadata": {
    "collapsed": true
   },
   "outputs": [],
   "source": []
  },
  {
   "cell_type": "code",
   "execution_count": null,
   "metadata": {
    "collapsed": true
   },
   "outputs": [],
   "source": []
  },
  {
   "cell_type": "code",
   "execution_count": null,
   "metadata": {
    "collapsed": true
   },
   "outputs": [],
   "source": []
  }
 ],
 "metadata": {
  "anaconda-cloud": {},
  "kernelspec": {
   "display_name": "Python [conda env:New folder]",
   "language": "python",
   "name": "conda-env-New folder-py"
  },
  "language_info": {
   "codemirror_mode": {
    "name": "ipython",
    "version": 3
   },
   "file_extension": ".py",
   "mimetype": "text/x-python",
   "name": "python",
   "nbconvert_exporter": "python",
   "pygments_lexer": "ipython3",
   "version": "3.5.6"
  }
 },
 "nbformat": 4,
 "nbformat_minor": 1
}
