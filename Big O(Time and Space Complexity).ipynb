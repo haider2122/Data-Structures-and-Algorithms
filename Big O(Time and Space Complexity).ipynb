{
 "cells": [
  {
   "cell_type": "code",
   "execution_count": 1,
   "metadata": {
    "collapsed": true
   },
   "outputs": [],
   "source": [
    "#O(1),O(n),O(n^2),O(log(n)),O(nlog(n))"
   ]
  },
  {
   "cell_type": "code",
   "execution_count": 2,
   "metadata": {
    "collapsed": true
   },
   "outputs": [],
   "source": [
    "#To measure how input size grows"
   ]
  },
  {
   "cell_type": "code",
   "execution_count": 6,
   "metadata": {
    "collapsed": false
   },
   "outputs": [],
   "source": [
    "\n",
    "def fun(n,m):\n",
    "    t #O(1)\n",
    "    for i in range(0,n):\n",
    "        for j in range(0,m):\n",
    "            t=t+1\n",
    "            #O(n*m)=O(n^2)\n",
    "            #Quad"
   ]
  },
  {
   "cell_type": "code",
   "execution_count": 9,
   "metadata": {
    "collapsed": false
   },
   "outputs": [],
   "source": [
    "def fun1(n,m):\n",
    "    t=0 #O(1)\n",
    "    for i in range(0,n):\n",
    "        pass\n",
    "    return t #O(1)\n",
    "    "
   ]
  },
  {
   "cell_type": "code",
   "execution_count": 10,
   "metadata": {
    "collapsed": true
   },
   "outputs": [],
   "source": [
    "def fun(n,m):\n",
    "    t #O(1)\n",
    "    for i in range(0,n):\n",
    "        print(i)\n",
    "#O(n)"
   ]
  },
  {
   "cell_type": "code",
   "execution_count": 12,
   "metadata": {
    "collapsed": false
   },
   "outputs": [],
   "source": [
    "def print_3(lst):\n",
    "    for val in lst:#O(n)\n",
    "        print(val)\n",
    "        \n",
    "    for val in lst:#O(n)\n",
    "        print(val)\n",
    "        \n",
    "    for val in lst:#O(n)\n",
    "        print(val)\n",
    "#total=O(n)+O(n)+O(n)=O(n)"
   ]
  },
  {
   "cell_type": "code",
   "execution_count": 15,
   "metadata": {
    "collapsed": false
   },
   "outputs": [],
   "source": [
    "def fun3(lst,a):\n",
    "    for i in lst:\n",
    "        if(a==i):\n",
    "            return True\n",
    "        else: \n",
    "            return False\n",
    "#Best Case: O(1)\n",
    "#Worst Case:O(n)"
   ]
  },
  {
   "cell_type": "code",
   "execution_count": null,
   "metadata": {
    "collapsed": true
   },
   "outputs": [],
   "source": []
  }
 ],
 "metadata": {
  "anaconda-cloud": {},
  "kernelspec": {
   "display_name": "Python [conda env:New folder]",
   "language": "python",
   "name": "conda-env-New folder-py"
  },
  "language_info": {
   "codemirror_mode": {
    "name": "ipython",
    "version": 3
   },
   "file_extension": ".py",
   "mimetype": "text/x-python",
   "name": "python",
   "nbconvert_exporter": "python",
   "pygments_lexer": "ipython3",
   "version": "3.5.6"
  }
 },
 "nbformat": 4,
 "nbformat_minor": 1
}
